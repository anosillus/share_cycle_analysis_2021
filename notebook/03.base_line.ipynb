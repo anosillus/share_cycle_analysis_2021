{
 "cells": [
  {
   "cell_type": "code",
   "execution_count": 60,
   "id": "12bdd8f0-af3b-481f-b156-e3909a078135",
   "metadata": {
    "tags": []
   },
   "outputs": [],
   "source": [
    "import os\n",
    "from dotenv import load_dotenv\n",
    "import pandas as pd\n",
    "import numpy as np\n",
    "from sklearn.model_selection import train_test_split\n",
    "from sklearn.metrics import mean_squared_error\n",
    "#import category_encoders as ce\n",
    "import matplotlib.pyplot as plt\n",
    "import seaborn as sns\n",
    "import warnings\n",
    "\n",
    "import optuna.integration.lightgbm as lgb \n",
    "from sklearn.metrics import confusion_matrix\n",
    "from sklearn.metrics import accuracy_score\n",
    "import optuna\n",
    "import numpy as np\n",
    "import optuna.integration.lightgbm as lgb\n",
    "\n",
    "from lightgbm import early_stopping\n",
    "from lightgbm import log_evaluation\n",
    "import sklearn.datasets\n",
    "from sklearn.metrics import accuracy_score\n",
    "from sklearn.model_selection import train_test_split\n",
    "\n",
    "warnings.filterwarnings('ignore')\n",
    "\n",
    "load_dotenv(verbose=True)\n",
    "\n",
    "raw_data_dir = os.environ.get(\"RAW_DATA\")"
   ]
  },
  {
   "cell_type": "code",
   "execution_count": 61,
   "id": "e6a0f9c8-be71-48ab-8588-46ce9f964625",
   "metadata": {
    "tags": []
   },
   "outputs": [
    {
     "name": "stdout",
     "output_type": "stream",
     "text": [
      "The watermark extension is already loaded. To reload it, use:\n",
      "  %reload_ext watermark\n",
      "Last updated: 2023-03-31\n",
      "\n",
      "Python implementation: CPython\n",
      "Python version       : 3.10.10\n",
      "IPython version      : 8.11.0\n",
      "\n",
      "pandas    : 1.5.3\n",
      "optuna    : 3.1.0\n",
      "sklearn   : 1.2.2\n",
      "matplotlib: 3.7.1\n",
      "numpy     : 1.24.2\n",
      "seaborn   : 0.12.2\n",
      "\n"
     ]
    }
   ],
   "source": [
    "%load_ext watermark\n",
    "%watermark -n -u -v -iv -d"
   ]
  },
  {
   "cell_type": "code",
   "execution_count": 62,
   "id": "c73a085a-61ee-437d-8f7b-07a0e0b3e635",
   "metadata": {},
   "outputs": [],
   "source": [
    "df = pd.read_csv(raw_data_dir + '/status.csv')"
   ]
  },
  {
   "cell_type": "code",
   "execution_count": 63,
   "id": "a522cafb-9bb0-4190-8940-07a16e630fe0",
   "metadata": {
    "tags": []
   },
   "outputs": [
    {
     "data": {
      "text/html": [
       "<div>\n",
       "<style scoped>\n",
       "    .dataframe tbody tr th:only-of-type {\n",
       "        vertical-align: middle;\n",
       "    }\n",
       "\n",
       "    .dataframe tbody tr th {\n",
       "        vertical-align: top;\n",
       "    }\n",
       "\n",
       "    .dataframe thead th {\n",
       "        text-align: right;\n",
       "    }\n",
       "</style>\n",
       "<table border=\"1\" class=\"dataframe\">\n",
       "  <thead>\n",
       "    <tr style=\"text-align: right;\">\n",
       "      <th></th>\n",
       "      <th>id</th>\n",
       "      <th>year</th>\n",
       "      <th>month</th>\n",
       "      <th>day</th>\n",
       "      <th>hour</th>\n",
       "      <th>station_id</th>\n",
       "      <th>bikes_available</th>\n",
       "      <th>predict</th>\n",
       "    </tr>\n",
       "  </thead>\n",
       "  <tbody>\n",
       "    <tr>\n",
       "      <th>0</th>\n",
       "      <td>0</td>\n",
       "      <td>2013</td>\n",
       "      <td>9</td>\n",
       "      <td>1</td>\n",
       "      <td>0</td>\n",
       "      <td>0</td>\n",
       "      <td>11.0</td>\n",
       "      <td>0</td>\n",
       "    </tr>\n",
       "    <tr>\n",
       "      <th>1</th>\n",
       "      <td>1</td>\n",
       "      <td>2013</td>\n",
       "      <td>9</td>\n",
       "      <td>1</td>\n",
       "      <td>1</td>\n",
       "      <td>0</td>\n",
       "      <td>11.0</td>\n",
       "      <td>0</td>\n",
       "    </tr>\n",
       "    <tr>\n",
       "      <th>2</th>\n",
       "      <td>2</td>\n",
       "      <td>2013</td>\n",
       "      <td>9</td>\n",
       "      <td>1</td>\n",
       "      <td>2</td>\n",
       "      <td>0</td>\n",
       "      <td>11.0</td>\n",
       "      <td>0</td>\n",
       "    </tr>\n",
       "    <tr>\n",
       "      <th>3</th>\n",
       "      <td>3</td>\n",
       "      <td>2013</td>\n",
       "      <td>9</td>\n",
       "      <td>1</td>\n",
       "      <td>3</td>\n",
       "      <td>0</td>\n",
       "      <td>11.0</td>\n",
       "      <td>0</td>\n",
       "    </tr>\n",
       "    <tr>\n",
       "      <th>4</th>\n",
       "      <td>4</td>\n",
       "      <td>2013</td>\n",
       "      <td>9</td>\n",
       "      <td>1</td>\n",
       "      <td>4</td>\n",
       "      <td>0</td>\n",
       "      <td>11.0</td>\n",
       "      <td>0</td>\n",
       "    </tr>\n",
       "    <tr>\n",
       "      <th>...</th>\n",
       "      <td>...</td>\n",
       "      <td>...</td>\n",
       "      <td>...</td>\n",
       "      <td>...</td>\n",
       "      <td>...</td>\n",
       "      <td>...</td>\n",
       "      <td>...</td>\n",
       "      <td>...</td>\n",
       "    </tr>\n",
       "    <tr>\n",
       "      <th>1226395</th>\n",
       "      <td>1226395</td>\n",
       "      <td>2015</td>\n",
       "      <td>8</td>\n",
       "      <td>31</td>\n",
       "      <td>19</td>\n",
       "      <td>69</td>\n",
       "      <td>8.0</td>\n",
       "      <td>0</td>\n",
       "    </tr>\n",
       "    <tr>\n",
       "      <th>1226396</th>\n",
       "      <td>1226396</td>\n",
       "      <td>2015</td>\n",
       "      <td>8</td>\n",
       "      <td>31</td>\n",
       "      <td>20</td>\n",
       "      <td>69</td>\n",
       "      <td>8.0</td>\n",
       "      <td>0</td>\n",
       "    </tr>\n",
       "    <tr>\n",
       "      <th>1226397</th>\n",
       "      <td>1226397</td>\n",
       "      <td>2015</td>\n",
       "      <td>8</td>\n",
       "      <td>31</td>\n",
       "      <td>21</td>\n",
       "      <td>69</td>\n",
       "      <td>8.0</td>\n",
       "      <td>0</td>\n",
       "    </tr>\n",
       "    <tr>\n",
       "      <th>1226398</th>\n",
       "      <td>1226398</td>\n",
       "      <td>2015</td>\n",
       "      <td>8</td>\n",
       "      <td>31</td>\n",
       "      <td>22</td>\n",
       "      <td>69</td>\n",
       "      <td>8.0</td>\n",
       "      <td>0</td>\n",
       "    </tr>\n",
       "    <tr>\n",
       "      <th>1226399</th>\n",
       "      <td>1226399</td>\n",
       "      <td>2015</td>\n",
       "      <td>8</td>\n",
       "      <td>31</td>\n",
       "      <td>23</td>\n",
       "      <td>69</td>\n",
       "      <td>8.0</td>\n",
       "      <td>0</td>\n",
       "    </tr>\n",
       "  </tbody>\n",
       "</table>\n",
       "<p>1226400 rows × 8 columns</p>\n",
       "</div>"
      ],
      "text/plain": [
       "              id  year  month  day  hour  station_id  bikes_available  predict\n",
       "0              0  2013      9    1     0           0             11.0        0\n",
       "1              1  2013      9    1     1           0             11.0        0\n",
       "2              2  2013      9    1     2           0             11.0        0\n",
       "3              3  2013      9    1     3           0             11.0        0\n",
       "4              4  2013      9    1     4           0             11.0        0\n",
       "...          ...   ...    ...  ...   ...         ...              ...      ...\n",
       "1226395  1226395  2015      8   31    19          69              8.0        0\n",
       "1226396  1226396  2015      8   31    20          69              8.0        0\n",
       "1226397  1226397  2015      8   31    21          69              8.0        0\n",
       "1226398  1226398  2015      8   31    22          69              8.0        0\n",
       "1226399  1226399  2015      8   31    23          69              8.0        0\n",
       "\n",
       "[1226400 rows x 8 columns]"
      ]
     },
     "execution_count": 63,
     "metadata": {},
     "output_type": "execute_result"
    }
   ],
   "source": [
    "df"
   ]
  },
  {
   "cell_type": "code",
   "execution_count": 64,
   "id": "d2db7487-507a-46ed-8d72-dcad7e466a84",
   "metadata": {
    "tags": []
   },
   "outputs": [],
   "source": [
    "local_df = df[df['predict'] == 0]"
   ]
  },
  {
   "cell_type": "code",
   "execution_count": 65,
   "id": "8ceccc86-5f02-4950-bd24-33cebef28c2e",
   "metadata": {
    "tags": []
   },
   "outputs": [],
   "source": [
    "local_label = test_df['bikes_available']"
   ]
  },
  {
   "cell_type": "code",
   "execution_count": 66,
   "id": "552b4ff1-8c8f-463f-b1e1-d2bec91fe9af",
   "metadata": {
    "tags": []
   },
   "outputs": [],
   "source": [
    "local_features = test_df.drop(columns=['predict','bikes_available'])"
   ]
  },
  {
   "cell_type": "code",
   "execution_count": 67,
   "id": "fe4e3c4a-b5e3-448f-9c3c-1f19ce4a87fa",
   "metadata": {
    "tags": []
   },
   "outputs": [],
   "source": [
    "train_x, test_x, train_y, test_y = train_test_split(local_features, local_label, test_size=0.25)\n",
    "dtrain = lgb.Dataset(train_x, label=train_y)\n",
    "dval = lgb.Dataset(test_x, label=test_y)"
   ]
  },
  {
   "cell_type": "code",
   "execution_count": 68,
   "id": "28df6b1d-0931-4096-82e5-6799c32b1fd2",
   "metadata": {
    "tags": []
   },
   "outputs": [],
   "source": [
    "#from sklearn.ensemble import RandomForestRegressor\n",
    "#regr = RandomForestRegressor(max_depth=15, random_state=0)\n",
    "#regr.fit(train_X, train_y)"
   ]
  },
  {
   "cell_type": "code",
   "execution_count": 69,
   "id": "dff8db28-793f-43a1-87c0-03e0241313dc",
   "metadata": {
    "tags": []
   },
   "outputs": [
    {
     "name": "stderr",
     "output_type": "stream",
     "text": [
      "\u001b[32m[I 2023-03-31 07:15:13,487]\u001b[0m A new study created in memory with name: no-name-e7e20980-21e5-46a6-9546-f6c9d54f9ff1\u001b[0m\n",
      "feature_fraction, val_score: inf:   0%|                                                    | 0/7 [00:00<?, ?it/s]"
     ]
    },
    {
     "name": "stdout",
     "output_type": "stream",
     "text": [
      "Training until validation scores don't improve for 100 rounds\n",
      "[100]\tvalid_0's binary_logloss: 0.183164\tvalid_1's binary_logloss: 0.183023\n",
      "[200]\tvalid_0's binary_logloss: 0.150207\tvalid_1's binary_logloss: 0.150793\n",
      "[300]\tvalid_0's binary_logloss: 0.14442\tvalid_1's binary_logloss: 0.145668\n",
      "[400]\tvalid_0's binary_logloss: 0.125738\tvalid_1's binary_logloss: 0.127431\n",
      "[500]\tvalid_0's binary_logloss: 0.109856\tvalid_1's binary_logloss: 0.112054\n",
      "[600]\tvalid_0's binary_logloss: 0.0941894\tvalid_1's binary_logloss: 0.0967664\n",
      "[700]\tvalid_0's binary_logloss: 0.0893784\tvalid_1's binary_logloss: 0.0923783\n",
      "[800]\tvalid_0's binary_logloss: 0.0788332\tvalid_1's binary_logloss: 0.082042\n",
      "[900]\tvalid_0's binary_logloss: 0.0687016\tvalid_1's binary_logloss: 0.0721842\n"
     ]
    },
    {
     "name": "stderr",
     "output_type": "stream",
     "text": [
      "feature_fraction, val_score: 0.068010:  14%|#####5                                 | 1/7 [00:12<01:13, 12.18s/it]\u001b[32m[I 2023-03-31 07:15:25,668]\u001b[0m Trial 0 finished with value: 0.06800959622183834 and parameters: {'feature_fraction': 0.5}. Best is trial 0 with value: 0.06800959622183834.\u001b[0m\n",
      "feature_fraction, val_score: 0.068010:  14%|#####5                                 | 1/7 [00:12<01:13, 12.18s/it]"
     ]
    },
    {
     "name": "stdout",
     "output_type": "stream",
     "text": [
      "[1000]\tvalid_0's binary_logloss: 0.0643142\tvalid_1's binary_logloss: 0.0680096\n",
      "Did not meet early stopping. Best iteration is:\n",
      "[1000]\tvalid_0's binary_logloss: 0.0643142\tvalid_1's binary_logloss: 0.0680096\n",
      "[100]\tvalid_0's binary_logloss: 0.154011\tvalid_1's binary_logloss: 0.154456\n",
      "[200]\tvalid_0's binary_logloss: 0.113347\tvalid_1's binary_logloss: 0.114502\n",
      "[300]\tvalid_0's binary_logloss: 0.0767429\tvalid_1's binary_logloss: 0.0784815\n",
      "[400]\tvalid_0's binary_logloss: 0.0648693\tvalid_1's binary_logloss: 0.0677409\n",
      "[500]\tvalid_0's binary_logloss: 0.0542177\tvalid_1's binary_logloss: 0.0575244\n",
      "[600]\tvalid_0's binary_logloss: 0.0469423\tvalid_1's binary_logloss: 0.0513552\n",
      "[700]\tvalid_0's binary_logloss: 0.0406251\tvalid_1's binary_logloss: 0.0458527\n",
      "[800]\tvalid_0's binary_logloss: 0.0359096\tvalid_1's binary_logloss: 0.0415733\n",
      "[900]\tvalid_0's binary_logloss: 0.0321382\tvalid_1's binary_logloss: 0.0386778\n"
     ]
    },
    {
     "name": "stderr",
     "output_type": "stream",
     "text": [
      "feature_fraction, val_score: 0.036529:  29%|###########1                           | 2/7 [00:25<01:02, 12.60s/it]\u001b[32m[I 2023-03-31 07:15:38,559]\u001b[0m Trial 1 finished with value: 0.03652928583921022 and parameters: {'feature_fraction': 0.7}. Best is trial 1 with value: 0.03652928583921022.\u001b[0m\n",
      "feature_fraction, val_score: 0.036529:  29%|###########1                           | 2/7 [00:25<01:02, 12.60s/it]"
     ]
    },
    {
     "name": "stdout",
     "output_type": "stream",
     "text": [
      "[1000]\tvalid_0's binary_logloss: 0.0295455\tvalid_1's binary_logloss: 0.0365293\n",
      "Did not meet early stopping. Best iteration is:\n",
      "[1000]\tvalid_0's binary_logloss: 0.0295455\tvalid_1's binary_logloss: 0.0365293\n",
      "[100]\tvalid_0's binary_logloss: 0.112355\tvalid_1's binary_logloss: 0.112836\n",
      "[200]\tvalid_0's binary_logloss: 0.0729623\tvalid_1's binary_logloss: 0.0740891\n",
      "[300]\tvalid_0's binary_logloss: 0.0535098\tvalid_1's binary_logloss: 0.0557281\n",
      "[400]\tvalid_0's binary_logloss: 0.0480059\tvalid_1's binary_logloss: 0.0517581\n",
      "[500]\tvalid_0's binary_logloss: 0.0388357\tvalid_1's binary_logloss: 0.0431419\n",
      "[600]\tvalid_0's binary_logloss: 0.0345783\tvalid_1's binary_logloss: 0.0394887\n",
      "[700]\tvalid_0's binary_logloss: 0.031191\tvalid_1's binary_logloss: 0.0380434\n",
      "[800]\tvalid_0's binary_logloss: 0.0298044\tvalid_1's binary_logloss: 0.0391159\n",
      "[900]\tvalid_0's binary_logloss: 0.0275759\tvalid_1's binary_logloss: 0.0394873\n"
     ]
    },
    {
     "name": "stderr",
     "output_type": "stream",
     "text": [
      "feature_fraction, val_score: 0.036529:  43%|################7                      | 3/7 [00:40<00:55, 13.76s/it]\u001b[32m[I 2023-03-31 07:15:53,699]\u001b[0m Trial 2 finished with value: 0.038750456994778776 and parameters: {'feature_fraction': 0.8999999999999999}. Best is trial 1 with value: 0.03652928583921022.\u001b[0m\n",
      "feature_fraction, val_score: 0.036529:  43%|################7                      | 3/7 [00:40<00:55, 13.76s/it]"
     ]
    },
    {
     "name": "stdout",
     "output_type": "stream",
     "text": [
      "[1000]\tvalid_0's binary_logloss: 0.0255077\tvalid_1's binary_logloss: 0.0387505\n",
      "Did not meet early stopping. Best iteration is:\n",
      "[1000]\tvalid_0's binary_logloss: 0.0255077\tvalid_1's binary_logloss: 0.0387505\n",
      "[100]\tvalid_0's binary_logloss: 0.276038\tvalid_1's binary_logloss: 0.275831\n",
      "[200]\tvalid_0's binary_logloss: 0.221602\tvalid_1's binary_logloss: 0.221384\n",
      "[300]\tvalid_0's binary_logloss: 0.189783\tvalid_1's binary_logloss: 0.189803\n",
      "[400]\tvalid_0's binary_logloss: 0.17887\tvalid_1's binary_logloss: 0.179089\n",
      "[500]\tvalid_0's binary_logloss: 0.162457\tvalid_1's binary_logloss: 0.162929\n",
      "[600]\tvalid_0's binary_logloss: 0.150866\tvalid_1's binary_logloss: 0.151506\n",
      "[700]\tvalid_0's binary_logloss: 0.147692\tvalid_1's binary_logloss: 0.148609\n",
      "[800]\tvalid_0's binary_logloss: 0.140797\tvalid_1's binary_logloss: 0.141922\n",
      "[900]\tvalid_0's binary_logloss: 0.123963\tvalid_1's binary_logloss: 0.125293\n"
     ]
    },
    {
     "name": "stderr",
     "output_type": "stream",
     "text": [
      "feature_fraction, val_score: 0.036529:  57%|######################2                | 4/7 [01:02<00:51, 17.15s/it]\u001b[32m[I 2023-03-31 07:16:16,049]\u001b[0m Trial 3 finished with value: 0.038750456994778776 and parameters: {'feature_fraction': 0.4}. Best is trial 1 with value: 0.03652928583921022.\u001b[0m\n",
      "feature_fraction, val_score: 0.036529:  57%|######################2                | 4/7 [01:02<00:51, 17.15s/it]"
     ]
    },
    {
     "name": "stdout",
     "output_type": "stream",
     "text": [
      "[1000]\tvalid_0's binary_logloss: 0.115469\tvalid_1's binary_logloss: 0.116973\n",
      "Did not meet early stopping. Best iteration is:\n",
      "[1000]\tvalid_0's binary_logloss: 0.0255077\tvalid_1's binary_logloss: 0.0387505\n",
      "[100]\tvalid_0's binary_logloss: 0.0970034\tvalid_1's binary_logloss: 0.0974613\n",
      "[200]\tvalid_0's binary_logloss: 0.0569609\tvalid_1's binary_logloss: 0.0590737\n",
      "[300]\tvalid_0's binary_logloss: 0.0450574\tvalid_1's binary_logloss: 0.0482875\n",
      "[400]\tvalid_0's binary_logloss: 0.0377369\tvalid_1's binary_logloss: 0.0434815\n",
      "[500]\tvalid_0's binary_logloss: 0.0320994\tvalid_1's binary_logloss: 0.0374685\n",
      "[600]\tvalid_0's binary_logloss: 0.0278972\tvalid_1's binary_logloss: 0.0340642\n",
      "[700]\tvalid_0's binary_logloss: 0.0259739\tvalid_1's binary_logloss: 0.0331136\n",
      "[800]\tvalid_0's binary_logloss: 0.0250105\tvalid_1's binary_logloss: 0.0338408\n"
     ]
    },
    {
     "name": "stderr",
     "output_type": "stream",
     "text": [
      "feature_fraction, val_score: 0.032738:  71%|###########################8           | 5/7 [01:13<00:29, 14.75s/it]\u001b[32m[I 2023-03-31 07:16:26,536]\u001b[0m Trial 4 finished with value: 0.03273845563289309 and parameters: {'feature_fraction': 1.0}. Best is trial 4 with value: 0.03273845563289309.\u001b[0m\n",
      "feature_fraction, val_score: 0.032738:  71%|###########################8           | 5/7 [01:13<00:29, 14.75s/it]"
     ]
    },
    {
     "name": "stdout",
     "output_type": "stream",
     "text": [
      "Early stopping, best iteration is:\n",
      "[730]\tvalid_0's binary_logloss: 0.025479\tvalid_1's binary_logloss: 0.0327385\n",
      "[100]\tvalid_0's binary_logloss: 0.112355\tvalid_1's binary_logloss: 0.112836\n",
      "[200]\tvalid_0's binary_logloss: 0.0729623\tvalid_1's binary_logloss: 0.0740891\n",
      "[300]\tvalid_0's binary_logloss: 0.0535098\tvalid_1's binary_logloss: 0.0557281\n",
      "[400]\tvalid_0's binary_logloss: 0.0480059\tvalid_1's binary_logloss: 0.0517581\n",
      "[500]\tvalid_0's binary_logloss: 0.0388357\tvalid_1's binary_logloss: 0.0431419\n",
      "[600]\tvalid_0's binary_logloss: 0.0345783\tvalid_1's binary_logloss: 0.0394887\n",
      "[700]\tvalid_0's binary_logloss: 0.031191\tvalid_1's binary_logloss: 0.0380434\n",
      "[800]\tvalid_0's binary_logloss: 0.0298044\tvalid_1's binary_logloss: 0.0391159\n"
     ]
    },
    {
     "name": "stderr",
     "output_type": "stream",
     "text": [
      "feature_fraction, val_score: 0.032738:  86%|#################################4     | 6/7 [01:22<00:13, 13.05s/it]\u001b[32m[I 2023-03-31 07:16:36,296]\u001b[0m Trial 5 finished with value: 0.03273845563289309 and parameters: {'feature_fraction': 0.8}. Best is trial 4 with value: 0.03273845563289309.\u001b[0m\n",
      "feature_fraction, val_score: 0.032738:  86%|#################################4     | 6/7 [01:22<00:13, 13.05s/it]"
     ]
    },
    {
     "name": "stdout",
     "output_type": "stream",
     "text": [
      "Early stopping, best iteration is:\n",
      "[730]\tvalid_0's binary_logloss: 0.025479\tvalid_1's binary_logloss: 0.0327385\n",
      "[100]\tvalid_0's binary_logloss: 0.154011\tvalid_1's binary_logloss: 0.154456\n",
      "[200]\tvalid_0's binary_logloss: 0.113347\tvalid_1's binary_logloss: 0.114502\n",
      "[300]\tvalid_0's binary_logloss: 0.0767429\tvalid_1's binary_logloss: 0.0784815\n",
      "[400]\tvalid_0's binary_logloss: 0.0648693\tvalid_1's binary_logloss: 0.0677409\n",
      "[500]\tvalid_0's binary_logloss: 0.0542177\tvalid_1's binary_logloss: 0.0575244\n",
      "[600]\tvalid_0's binary_logloss: 0.0469423\tvalid_1's binary_logloss: 0.0513552\n",
      "[700]\tvalid_0's binary_logloss: 0.0406251\tvalid_1's binary_logloss: 0.0458527\n",
      "[800]\tvalid_0's binary_logloss: 0.0359096\tvalid_1's binary_logloss: 0.0415733\n"
     ]
    },
    {
     "name": "stderr",
     "output_type": "stream",
     "text": [
      "feature_fraction, val_score: 0.032738: 100%|#######################################| 7/7 [01:35<00:00, 12.86s/it]\u001b[32m[I 2023-03-31 07:16:48,750]\u001b[0m Trial 6 finished with value: 0.03273845563289309 and parameters: {'feature_fraction': 0.6}. Best is trial 4 with value: 0.03273845563289309.\u001b[0m\n",
      "feature_fraction, val_score: 0.032738: 100%|#######################################| 7/7 [01:35<00:00, 13.61s/it]\n"
     ]
    },
    {
     "name": "stdout",
     "output_type": "stream",
     "text": [
      "Early stopping, best iteration is:\n",
      "[730]\tvalid_0's binary_logloss: 0.025479\tvalid_1's binary_logloss: 0.0327385\n"
     ]
    },
    {
     "name": "stderr",
     "output_type": "stream",
     "text": [
      "num_leaves, val_score: 0.032738:   0%|                                                    | 0/20 [00:00<?, ?it/s]"
     ]
    },
    {
     "name": "stdout",
     "output_type": "stream",
     "text": [
      "[100]\tvalid_0's binary_logloss: 0.0256298\tvalid_1's binary_logloss: 0.0316655\n",
      "[200]\tvalid_0's binary_logloss: 0.0131795\tvalid_1's binary_logloss: 0.0229548\n",
      "[300]\tvalid_0's binary_logloss: 0.00946941\tvalid_1's binary_logloss: 0.0218877\n",
      "[400]\tvalid_0's binary_logloss: 0.00720298\tvalid_1's binary_logloss: 0.0217419\n"
     ]
    },
    {
     "name": "stderr",
     "output_type": "stream",
     "text": [
      "num_leaves, val_score: 0.021666:   5%|##2                                         | 1/20 [00:15<04:45, 15.03s/it]\u001b[32m[I 2023-03-31 07:17:03,779]\u001b[0m Trial 7 finished with value: 0.021665551200347275 and parameters: {'num_leaves': 231}. Best is trial 7 with value: 0.021665551200347275.\u001b[0m\n",
      "num_leaves, val_score: 0.021666:   5%|##2                                         | 1/20 [00:15<04:45, 15.03s/it]"
     ]
    },
    {
     "name": "stdout",
     "output_type": "stream",
     "text": [
      "Early stopping, best iteration is:\n",
      "[369]\tvalid_0's binary_logloss: 0.00777246\tvalid_1's binary_logloss: 0.0216656\n",
      "[100]\tvalid_0's binary_logloss: 0.0261068\tvalid_1's binary_logloss: 0.0305948\n",
      "[200]\tvalid_0's binary_logloss: 0.017091\tvalid_1's binary_logloss: 0.0259969\n",
      "[300]\tvalid_0's binary_logloss: 0.0316981\tvalid_1's binary_logloss: 0.0447111\n",
      "[400]\tvalid_0's binary_logloss: 0.0291009\tvalid_1's binary_logloss: 0.0592241\n"
     ]
    },
    {
     "name": "stderr",
     "output_type": "stream",
     "text": [
      "num_leaves, val_score: 0.021666:  10%|####4                                       | 2/20 [00:24<03:30, 11.69s/it]\u001b[32m[I 2023-03-31 07:17:13,127]\u001b[0m Trial 8 finished with value: 0.021665551200347275 and parameters: {'num_leaves': 164}. Best is trial 7 with value: 0.021665551200347275.\u001b[0m\n",
      "num_leaves, val_score: 0.021666:  10%|####4                                       | 2/20 [00:24<03:30, 11.69s/it]"
     ]
    },
    {
     "name": "stdout",
     "output_type": "stream",
     "text": [
      "Early stopping, best iteration is:\n",
      "[369]\tvalid_0's binary_logloss: 0.00777246\tvalid_1's binary_logloss: 0.0216656\n",
      "[100]\tvalid_0's binary_logloss: 0.0237078\tvalid_1's binary_logloss: 0.0297387\n",
      "[200]\tvalid_0's binary_logloss: 0.0175428\tvalid_1's binary_logloss: 0.0324473\n",
      "[300]\tvalid_0's binary_logloss: 0.11455\tvalid_1's binary_logloss: 0.139484\n",
      "[400]\tvalid_0's binary_logloss: 0.37888\tvalid_1's binary_logloss: 0.403809\n"
     ]
    },
    {
     "name": "stderr",
     "output_type": "stream",
     "text": [
      "num_leaves, val_score: 0.021666:  15%|######6                                     | 3/20 [00:36<03:23, 11.98s/it]\u001b[32m[I 2023-03-31 07:17:25,467]\u001b[0m Trial 9 finished with value: 0.021665551200347275 and parameters: {'num_leaves': 240}. Best is trial 7 with value: 0.021665551200347275.\u001b[0m\n",
      "num_leaves, val_score: 0.021666:  15%|######6                                     | 3/20 [00:36<03:23, 11.98s/it]"
     ]
    },
    {
     "name": "stdout",
     "output_type": "stream",
     "text": [
      "Early stopping, best iteration is:\n",
      "[369]\tvalid_0's binary_logloss: 0.00777246\tvalid_1's binary_logloss: 0.0216656\n",
      "[100]\tvalid_0's binary_logloss: 0.0326985\tvalid_1's binary_logloss: 0.0385283\n",
      "[200]\tvalid_0's binary_logloss: 0.021864\tvalid_1's binary_logloss: 0.0321472\n",
      "[300]\tvalid_0's binary_logloss: 0.0293123\tvalid_1's binary_logloss: 0.0421357\n",
      "[400]\tvalid_0's binary_logloss: 0.0300016\tvalid_1's binary_logloss: 0.0481104\n"
     ]
    },
    {
     "name": "stderr",
     "output_type": "stream",
     "text": [
      "num_leaves, val_score: 0.021666:  20%|########8                                   | 4/20 [00:45<02:52, 10.78s/it]\u001b[32m[I 2023-03-31 07:17:34,407]\u001b[0m Trial 10 finished with value: 0.021665551200347275 and parameters: {'num_leaves': 127}. Best is trial 7 with value: 0.021665551200347275.\u001b[0m\n",
      "num_leaves, val_score: 0.021666:  20%|########8                                   | 4/20 [00:45<02:52, 10.78s/it]"
     ]
    },
    {
     "name": "stdout",
     "output_type": "stream",
     "text": [
      "Early stopping, best iteration is:\n",
      "[369]\tvalid_0's binary_logloss: 0.00777246\tvalid_1's binary_logloss: 0.0216656\n",
      "[100]\tvalid_0's binary_logloss: 0.126479\tvalid_1's binary_logloss: 0.126641\n",
      "[200]\tvalid_0's binary_logloss: 0.0846946\tvalid_1's binary_logloss: 0.0855612\n",
      "[300]\tvalid_0's binary_logloss: 0.0664237\tvalid_1's binary_logloss: 0.0674729\n",
      "[400]\tvalid_0's binary_logloss: 0.0535485\tvalid_1's binary_logloss: 0.0553965\n"
     ]
    },
    {
     "name": "stderr",
     "output_type": "stream",
     "text": [
      "num_leaves, val_score: 0.021666:  25%|###########                                 | 5/20 [00:50<02:10,  8.73s/it]\u001b[32m[I 2023-03-31 07:17:39,492]\u001b[0m Trial 11 finished with value: 0.021665551200347275 and parameters: {'num_leaves': 20}. Best is trial 7 with value: 0.021665551200347275.\u001b[0m\n",
      "num_leaves, val_score: 0.021666:  25%|###########                                 | 5/20 [00:50<02:10,  8.73s/it]"
     ]
    },
    {
     "name": "stdout",
     "output_type": "stream",
     "text": [
      "Early stopping, best iteration is:\n",
      "[369]\tvalid_0's binary_logloss: 0.00777246\tvalid_1's binary_logloss: 0.0216656\n",
      "[100]\tvalid_0's binary_logloss: 0.0566718\tvalid_1's binary_logloss: 0.0582902\n",
      "[200]\tvalid_0's binary_logloss: 0.0410506\tvalid_1's binary_logloss: 0.0453954\n",
      "[300]\tvalid_0's binary_logloss: 0.0329118\tvalid_1's binary_logloss: 0.0390127\n",
      "[400]\tvalid_0's binary_logloss: 0.027789\tvalid_1's binary_logloss: 0.0370197\n"
     ]
    },
    {
     "name": "stderr",
     "output_type": "stream",
     "text": [
      "num_leaves, val_score: 0.021666:  30%|#############2                              | 6/20 [00:57<01:52,  8.03s/it]\u001b[32m[I 2023-03-31 07:17:46,170]\u001b[0m Trial 12 finished with value: 0.021665551200347275 and parameters: {'num_leaves': 53}. Best is trial 7 with value: 0.021665551200347275.\u001b[0m\n",
      "num_leaves, val_score: 0.021666:  30%|#############2                              | 6/20 [00:57<01:52,  8.03s/it]"
     ]
    },
    {
     "name": "stdout",
     "output_type": "stream",
     "text": [
      "Early stopping, best iteration is:\n",
      "[369]\tvalid_0's binary_logloss: 0.00777246\tvalid_1's binary_logloss: 0.0216656\n",
      "[100]\tvalid_0's binary_logloss: 0.025031\tvalid_1's binary_logloss: 0.0309928\n",
      "[200]\tvalid_0's binary_logloss: 0.0156949\tvalid_1's binary_logloss: 0.0267881\n",
      "[300]\tvalid_0's binary_logloss: 0.126897\tvalid_1's binary_logloss: 0.157573\n",
      "[400]\tvalid_0's binary_logloss: 1.21458\tvalid_1's binary_logloss: 1.2712\n"
     ]
    },
    {
     "name": "stderr",
     "output_type": "stream",
     "text": [
      "num_leaves, val_score: 0.021666:  35%|###############4                            | 7/20 [01:08<01:58,  9.08s/it]\u001b[32m[I 2023-03-31 07:17:57,421]\u001b[0m Trial 13 finished with value: 0.021665551200347275 and parameters: {'num_leaves': 251}. Best is trial 7 with value: 0.021665551200347275.\u001b[0m\n",
      "num_leaves, val_score: 0.021666:  35%|###############4                            | 7/20 [01:08<01:58,  9.08s/it]"
     ]
    },
    {
     "name": "stdout",
     "output_type": "stream",
     "text": [
      "Early stopping, best iteration is:\n",
      "[369]\tvalid_0's binary_logloss: 0.00777246\tvalid_1's binary_logloss: 0.0216656\n",
      "[100]\tvalid_0's binary_logloss: 0.223684\tvalid_1's binary_logloss: 0.223742\n",
      "[200]\tvalid_0's binary_logloss: 0.17673\tvalid_1's binary_logloss: 0.17678\n",
      "[300]\tvalid_0's binary_logloss: 0.146007\tvalid_1's binary_logloss: 0.146117\n",
      "[400]\tvalid_0's binary_logloss: 0.120394\tvalid_1's binary_logloss: 0.120608\n"
     ]
    },
    {
     "name": "stderr",
     "output_type": "stream",
     "text": [
      "num_leaves, val_score: 0.021666:  40%|#################6                          | 8/20 [01:13<01:32,  7.73s/it]\u001b[32m[I 2023-03-31 07:18:02,255]\u001b[0m Trial 14 finished with value: 0.021665551200347275 and parameters: {'num_leaves': 8}. Best is trial 7 with value: 0.021665551200347275.\u001b[0m\n",
      "num_leaves, val_score: 0.021666:  40%|#################6                          | 8/20 [01:13<01:32,  7.73s/it]"
     ]
    },
    {
     "name": "stdout",
     "output_type": "stream",
     "text": [
      "Early stopping, best iteration is:\n",
      "[369]\tvalid_0's binary_logloss: 0.00777246\tvalid_1's binary_logloss: 0.0216656\n",
      "[100]\tvalid_0's binary_logloss: 0.026178\tvalid_1's binary_logloss: 0.0324291\n",
      "[200]\tvalid_0's binary_logloss: 0.0138004\tvalid_1's binary_logloss: 0.0237148\n",
      "[300]\tvalid_0's binary_logloss: 0.00955619\tvalid_1's binary_logloss: 0.0222368\n",
      "[400]\tvalid_0's binary_logloss: 0.00718157\tvalid_1's binary_logloss: 0.0217614\n"
     ]
    },
    {
     "name": "stderr",
     "output_type": "stream",
     "text": [
      "num_leaves, val_score: 0.021666:  45%|###################8                        | 9/20 [01:23<01:34,  8.56s/it]\u001b[32m[I 2023-03-31 07:18:12,638]\u001b[0m Trial 15 finished with value: 0.021665551200347275 and parameters: {'num_leaves': 237}. Best is trial 7 with value: 0.021665551200347275.\u001b[0m\n",
      "num_leaves, val_score: 0.021666:  45%|###################8                        | 9/20 [01:23<01:34,  8.56s/it]"
     ]
    },
    {
     "name": "stdout",
     "output_type": "stream",
     "text": [
      "Early stopping, best iteration is:\n",
      "[369]\tvalid_0's binary_logloss: 0.00777246\tvalid_1's binary_logloss: 0.0216656\n",
      "[100]\tvalid_0's binary_logloss: 0.0317861\tvalid_1's binary_logloss: 0.036406\n",
      "[200]\tvalid_0's binary_logloss: 0.030097\tvalid_1's binary_logloss: 0.0392109\n",
      "[300]\tvalid_0's binary_logloss: 0.0180086\tvalid_1's binary_logloss: 0.0298945\n",
      "[400]\tvalid_0's binary_logloss: 0.0156878\tvalid_1's binary_logloss: 0.0295866\n"
     ]
    },
    {
     "name": "stderr",
     "output_type": "stream",
     "text": [
      "num_leaves, val_score: 0.021666:  50%|#####################5                     | 10/20 [01:32<01:24,  8.49s/it]\u001b[32m[I 2023-03-31 07:18:20,967]\u001b[0m Trial 16 finished with value: 0.021665551200347275 and parameters: {'num_leaves': 116}. Best is trial 7 with value: 0.021665551200347275.\u001b[0m\n",
      "num_leaves, val_score: 0.021666:  50%|#####################5                     | 10/20 [01:32<01:24,  8.49s/it]"
     ]
    },
    {
     "name": "stdout",
     "output_type": "stream",
     "text": [
      "Early stopping, best iteration is:\n",
      "[369]\tvalid_0's binary_logloss: 0.00777246\tvalid_1's binary_logloss: 0.0216656\n",
      "[100]\tvalid_0's binary_logloss: 0.0266285\tvalid_1's binary_logloss: 0.03138\n",
      "[200]\tvalid_0's binary_logloss: 0.0195309\tvalid_1's binary_logloss: 0.0306376\n",
      "[300]\tvalid_0's binary_logloss: 0.0275051\tvalid_1's binary_logloss: 0.0496901\n",
      "[400]\tvalid_0's binary_logloss: 0.216789\tvalid_1's binary_logloss: 0.254827\n"
     ]
    },
    {
     "name": "stderr",
     "output_type": "stream",
     "text": [
      "num_leaves, val_score: 0.021666:  55%|#######################6                   | 11/20 [01:46<01:33, 10.37s/it]\u001b[32m[I 2023-03-31 07:18:35,592]\u001b[0m Trial 17 finished with value: 0.021665551200347275 and parameters: {'num_leaves': 192}. Best is trial 7 with value: 0.021665551200347275.\u001b[0m\n",
      "num_leaves, val_score: 0.021666:  55%|#######################6                   | 11/20 [01:46<01:33, 10.37s/it]"
     ]
    },
    {
     "name": "stdout",
     "output_type": "stream",
     "text": [
      "Early stopping, best iteration is:\n",
      "[369]\tvalid_0's binary_logloss: 0.00777246\tvalid_1's binary_logloss: 0.0216656\n",
      "[100]\tvalid_0's binary_logloss: 0.0295277\tvalid_1's binary_logloss: 0.0338644\n",
      "[200]\tvalid_0's binary_logloss: 0.0193984\tvalid_1's binary_logloss: 0.0315566\n",
      "[300]\tvalid_0's binary_logloss: 0.0428194\tvalid_1's binary_logloss: 0.0701844\n",
      "[400]\tvalid_0's binary_logloss: 0.250274\tvalid_1's binary_logloss: 0.283135\n"
     ]
    },
    {
     "name": "stderr",
     "output_type": "stream",
     "text": [
      "num_leaves, val_score: 0.021666:  60%|#########################8                 | 12/20 [02:01<01:34, 11.82s/it]\u001b[32m[I 2023-03-31 07:18:50,750]\u001b[0m Trial 18 finished with value: 0.021665551200347275 and parameters: {'num_leaves': 180}. Best is trial 7 with value: 0.021665551200347275.\u001b[0m\n",
      "num_leaves, val_score: 0.021666:  60%|#########################8                 | 12/20 [02:01<01:34, 11.82s/it]"
     ]
    },
    {
     "name": "stdout",
     "output_type": "stream",
     "text": [
      "Early stopping, best iteration is:\n",
      "[369]\tvalid_0's binary_logloss: 0.00777246\tvalid_1's binary_logloss: 0.0216656\n",
      "[100]\tvalid_0's binary_logloss: 0.0295277\tvalid_1's binary_logloss: 0.0338644\n",
      "[200]\tvalid_0's binary_logloss: 0.0193984\tvalid_1's binary_logloss: 0.0315566\n",
      "[300]\tvalid_0's binary_logloss: 0.0456395\tvalid_1's binary_logloss: 0.0674156\n",
      "[400]\tvalid_0's binary_logloss: 0.257415\tvalid_1's binary_logloss: 0.287473\n"
     ]
    },
    {
     "name": "stderr",
     "output_type": "stream",
     "text": [
      "num_leaves, val_score: 0.021666:  65%|###########################9               | 13/20 [02:14<01:23, 11.93s/it]\u001b[32m[I 2023-03-31 07:19:02,916]\u001b[0m Trial 19 finished with value: 0.021665551200347275 and parameters: {'num_leaves': 180}. Best is trial 7 with value: 0.021665551200347275.\u001b[0m\n",
      "num_leaves, val_score: 0.021666:  65%|###########################9               | 13/20 [02:14<01:23, 11.93s/it]"
     ]
    },
    {
     "name": "stdout",
     "output_type": "stream",
     "text": [
      "Early stopping, best iteration is:\n",
      "[369]\tvalid_0's binary_logloss: 0.00777246\tvalid_1's binary_logloss: 0.0216656\n",
      "[100]\tvalid_0's binary_logloss: 0.0247138\tvalid_1's binary_logloss: 0.0293634\n",
      "[200]\tvalid_0's binary_logloss: 0.015274\tvalid_1's binary_logloss: 0.0240314\n",
      "[300]\tvalid_0's binary_logloss: 0.0112205\tvalid_1's binary_logloss: 0.0228336\n",
      "[400]\tvalid_0's binary_logloss: 0.00849647\tvalid_1's binary_logloss: 0.0222363\n"
     ]
    },
    {
     "name": "stderr",
     "output_type": "stream",
     "text": [
      "num_leaves, val_score: 0.021666:  70%|##############################1            | 14/20 [02:28<01:16, 12.76s/it]\u001b[32m[I 2023-03-31 07:19:17,598]\u001b[0m Trial 20 finished with value: 0.021665551200347275 and parameters: {'num_leaves': 202}. Best is trial 7 with value: 0.021665551200347275.\u001b[0m\n",
      "num_leaves, val_score: 0.021666:  70%|##############################1            | 14/20 [02:28<01:16, 12.76s/it]"
     ]
    },
    {
     "name": "stdout",
     "output_type": "stream",
     "text": [
      "Early stopping, best iteration is:\n",
      "[369]\tvalid_0's binary_logloss: 0.00777246\tvalid_1's binary_logloss: 0.0216656\n",
      "[100]\tvalid_0's binary_logloss: 0.0368116\tvalid_1's binary_logloss: 0.0398303\n",
      "[200]\tvalid_0's binary_logloss: 0.0270989\tvalid_1's binary_logloss: 0.0336066\n",
      "[300]\tvalid_0's binary_logloss: 0.0374476\tvalid_1's binary_logloss: 0.0457195\n",
      "[400]\tvalid_0's binary_logloss: 0.0185121\tvalid_1's binary_logloss: 0.028237\n"
     ]
    },
    {
     "name": "stderr",
     "output_type": "stream",
     "text": [
      "num_leaves, val_score: 0.021666:  75%|################################2          | 15/20 [02:38<00:58, 11.67s/it]\u001b[32m[I 2023-03-31 07:19:26,754]\u001b[0m Trial 21 finished with value: 0.021665551200347275 and parameters: {'num_leaves': 89}. Best is trial 7 with value: 0.021665551200347275.\u001b[0m\n",
      "num_leaves, val_score: 0.021666:  75%|################################2          | 15/20 [02:38<00:58, 11.67s/it]"
     ]
    },
    {
     "name": "stdout",
     "output_type": "stream",
     "text": [
      "Early stopping, best iteration is:\n",
      "[369]\tvalid_0's binary_logloss: 0.00777246\tvalid_1's binary_logloss: 0.0216656\n",
      "[100]\tvalid_0's binary_logloss: 0.0319722\tvalid_1's binary_logloss: 0.0371928\n",
      "[200]\tvalid_0's binary_logloss: 0.0208917\tvalid_1's binary_logloss: 0.0298101\n",
      "[300]\tvalid_0's binary_logloss: 0.0174446\tvalid_1's binary_logloss: 0.0303184\n",
      "[400]\tvalid_0's binary_logloss: 0.0475917\tvalid_1's binary_logloss: 0.0802626\n"
     ]
    },
    {
     "name": "stderr",
     "output_type": "stream",
     "text": [
      "num_leaves, val_score: 0.021666:  80%|##################################4        | 16/20 [02:49<00:46, 11.61s/it]\u001b[32m[I 2023-03-31 07:19:38,208]\u001b[0m Trial 22 finished with value: 0.021665551200347275 and parameters: {'num_leaves': 154}. Best is trial 7 with value: 0.021665551200347275.\u001b[0m\n",
      "num_leaves, val_score: 0.021666:  80%|##################################4        | 16/20 [02:49<00:46, 11.61s/it]"
     ]
    },
    {
     "name": "stdout",
     "output_type": "stream",
     "text": [
      "Early stopping, best iteration is:\n",
      "[369]\tvalid_0's binary_logloss: 0.00777246\tvalid_1's binary_logloss: 0.0216656\n",
      "[100]\tvalid_0's binary_logloss: 0.0319722\tvalid_1's binary_logloss: 0.0371928\n",
      "[200]\tvalid_0's binary_logloss: 0.0259681\tvalid_1's binary_logloss: 0.0357106\n",
      "[300]\tvalid_0's binary_logloss: 0.0318313\tvalid_1's binary_logloss: 0.0409069\n",
      "[400]\tvalid_0's binary_logloss: 0.0443617\tvalid_1's binary_logloss: 0.0737989\n"
     ]
    },
    {
     "name": "stderr",
     "output_type": "stream",
     "text": [
      "num_leaves, val_score: 0.021666:  85%|####################################5      | 17/20 [02:58<00:32, 10.84s/it]\u001b[32m[I 2023-03-31 07:19:47,249]\u001b[0m Trial 23 finished with value: 0.021665551200347275 and parameters: {'num_leaves': 154}. Best is trial 7 with value: 0.021665551200347275.\u001b[0m\n",
      "num_leaves, val_score: 0.021666:  85%|####################################5      | 17/20 [02:58<00:32, 10.84s/it]"
     ]
    },
    {
     "name": "stdout",
     "output_type": "stream",
     "text": [
      "Early stopping, best iteration is:\n",
      "[369]\tvalid_0's binary_logloss: 0.00777246\tvalid_1's binary_logloss: 0.0216656\n",
      "[100]\tvalid_0's binary_logloss: 0.0254617\tvalid_1's binary_logloss: 0.0322351\n",
      "[200]\tvalid_0's binary_logloss: 0.0156\tvalid_1's binary_logloss: 0.0269717\n",
      "[300]\tvalid_0's binary_logloss: 0.0109756\tvalid_1's binary_logloss: 0.0253745\n",
      "[400]\tvalid_0's binary_logloss: 0.0694818\tvalid_1's binary_logloss: 0.106713\n"
     ]
    },
    {
     "name": "stderr",
     "output_type": "stream",
     "text": [
      "num_leaves, val_score: 0.021666:  90%|######################################7    | 18/20 [03:09<00:21, 10.82s/it]\u001b[32m[I 2023-03-31 07:19:58,047]\u001b[0m Trial 24 finished with value: 0.021665551200347275 and parameters: {'num_leaves': 218}. Best is trial 7 with value: 0.021665551200347275.\u001b[0m\n",
      "num_leaves, val_score: 0.021666:  90%|######################################7    | 18/20 [03:09<00:21, 10.82s/it]"
     ]
    },
    {
     "name": "stdout",
     "output_type": "stream",
     "text": [
      "Early stopping, best iteration is:\n",
      "[369]\tvalid_0's binary_logloss: 0.00777246\tvalid_1's binary_logloss: 0.0216656\n",
      "[100]\tvalid_0's binary_logloss: 0.031139\tvalid_1's binary_logloss: 0.0346031\n",
      "[200]\tvalid_0's binary_logloss: 0.0197657\tvalid_1's binary_logloss: 0.0277958\n",
      "[300]\tvalid_0's binary_logloss: 0.0240397\tvalid_1's binary_logloss: 0.0380702\n",
      "[400]\tvalid_0's binary_logloss: 0.0321558\tvalid_1's binary_logloss: 0.0570761\n"
     ]
    },
    {
     "name": "stderr",
     "output_type": "stream",
     "text": [
      "num_leaves, val_score: 0.021666:  95%|########################################8  | 19/20 [03:19<00:10, 10.68s/it]\u001b[32m[I 2023-03-31 07:20:08,394]\u001b[0m Trial 25 finished with value: 0.021665551200347275 and parameters: {'num_leaves': 157}. Best is trial 7 with value: 0.021665551200347275.\u001b[0m\n",
      "num_leaves, val_score: 0.021666:  95%|########################################8  | 19/20 [03:19<00:10, 10.68s/it]"
     ]
    },
    {
     "name": "stdout",
     "output_type": "stream",
     "text": [
      "Early stopping, best iteration is:\n",
      "[369]\tvalid_0's binary_logloss: 0.00777246\tvalid_1's binary_logloss: 0.0216656\n",
      "[100]\tvalid_0's binary_logloss: 0.0359333\tvalid_1's binary_logloss: 0.0403558\n",
      "[200]\tvalid_0's binary_logloss: 0.0270842\tvalid_1's binary_logloss: 0.0342072\n",
      "[300]\tvalid_0's binary_logloss: 0.0244736\tvalid_1's binary_logloss: 0.0360859\n",
      "[400]\tvalid_0's binary_logloss: 0.0307609\tvalid_1's binary_logloss: 0.0450864\n"
     ]
    },
    {
     "name": "stderr",
     "output_type": "stream",
     "text": [
      "num_leaves, val_score: 0.021666: 100%|###########################################| 20/20 [03:28<00:00, 10.06s/it]\u001b[32m[I 2023-03-31 07:20:17,015]\u001b[0m Trial 26 finished with value: 0.021665551200347275 and parameters: {'num_leaves': 98}. Best is trial 7 with value: 0.021665551200347275.\u001b[0m\n",
      "num_leaves, val_score: 0.021666: 100%|###########################################| 20/20 [03:28<00:00, 10.41s/it]\n"
     ]
    },
    {
     "name": "stdout",
     "output_type": "stream",
     "text": [
      "Early stopping, best iteration is:\n",
      "[369]\tvalid_0's binary_logloss: 0.00777246\tvalid_1's binary_logloss: 0.0216656\n"
     ]
    },
    {
     "name": "stderr",
     "output_type": "stream",
     "text": [
      "bagging, val_score: 0.021666:   0%|                                                       | 0/10 [00:00<?, ?it/s]"
     ]
    },
    {
     "name": "stdout",
     "output_type": "stream",
     "text": [
      "[100]\tvalid_0's binary_logloss: 0.0228063\tvalid_1's binary_logloss: 0.0292025\n",
      "[200]\tvalid_0's binary_logloss: 0.014141\tvalid_1's binary_logloss: 0.0259508\n",
      "[300]\tvalid_0's binary_logloss: 0.0176233\tvalid_1's binary_logloss: 0.0344849\n",
      "[400]\tvalid_0's binary_logloss: 0.200983\tvalid_1's binary_logloss: 0.240461\n"
     ]
    },
    {
     "name": "stderr",
     "output_type": "stream",
     "text": [
      "bagging, val_score: 0.021666:  10%|####7                                          | 1/10 [00:12<01:50, 12.28s/it]\u001b[32m[I 2023-03-31 07:20:29,304]\u001b[0m Trial 27 finished with value: 0.021665551200347275 and parameters: {'bagging_fraction': 0.5738446516887461, 'bagging_freq': 5}. Best is trial 27 with value: 0.021665551200347275.\u001b[0m\n",
      "bagging, val_score: 0.021666:  10%|####7                                          | 1/10 [00:12<01:50, 12.28s/it]"
     ]
    },
    {
     "name": "stdout",
     "output_type": "stream",
     "text": [
      "Early stopping, best iteration is:\n",
      "[369]\tvalid_0's binary_logloss: 0.00777246\tvalid_1's binary_logloss: 0.0216656\n",
      "[100]\tvalid_0's binary_logloss: 0.0228103\tvalid_1's binary_logloss: 0.0291587\n",
      "[200]\tvalid_0's binary_logloss: 0.0137278\tvalid_1's binary_logloss: 0.0256861\n",
      "[300]\tvalid_0's binary_logloss: 0.0275275\tvalid_1's binary_logloss: 0.0511468\n",
      "[400]\tvalid_0's binary_logloss: 0.522056\tvalid_1's binary_logloss: 0.544742\n"
     ]
    },
    {
     "name": "stderr",
     "output_type": "stream",
     "text": [
      "bagging, val_score: 0.021666:  20%|#########4                                     | 2/10 [00:24<01:38, 12.29s/it]\u001b[32m[I 2023-03-31 07:20:41,605]\u001b[0m Trial 28 finished with value: 0.021665551200347275 and parameters: {'bagging_fraction': 0.44333188284849484, 'bagging_freq': 2}. Best is trial 27 with value: 0.021665551200347275.\u001b[0m\n",
      "bagging, val_score: 0.021666:  20%|#########4                                     | 2/10 [00:24<01:38, 12.29s/it]"
     ]
    },
    {
     "name": "stdout",
     "output_type": "stream",
     "text": [
      "Early stopping, best iteration is:\n",
      "[369]\tvalid_0's binary_logloss: 0.00777246\tvalid_1's binary_logloss: 0.0216656\n",
      "[100]\tvalid_0's binary_logloss: 0.0228521\tvalid_1's binary_logloss: 0.0298714\n",
      "[200]\tvalid_0's binary_logloss: 0.0143625\tvalid_1's binary_logloss: 0.0262518\n",
      "[300]\tvalid_0's binary_logloss: 0.0302273\tvalid_1's binary_logloss: 0.0515695\n",
      "[400]\tvalid_0's binary_logloss: 0.532254\tvalid_1's binary_logloss: 0.56303\n"
     ]
    },
    {
     "name": "stderr",
     "output_type": "stream",
     "text": [
      "bagging, val_score: 0.021666:  30%|##############1                                | 3/10 [00:37<01:28, 12.61s/it]\u001b[32m[I 2023-03-31 07:20:54,595]\u001b[0m Trial 29 finished with value: 0.021665551200347275 and parameters: {'bagging_fraction': 0.632672056310283, 'bagging_freq': 7}. Best is trial 27 with value: 0.021665551200347275.\u001b[0m\n",
      "bagging, val_score: 0.021666:  30%|##############1                                | 3/10 [00:37<01:28, 12.61s/it]"
     ]
    },
    {
     "name": "stdout",
     "output_type": "stream",
     "text": [
      "Early stopping, best iteration is:\n",
      "[369]\tvalid_0's binary_logloss: 0.00777246\tvalid_1's binary_logloss: 0.0216656\n",
      "[100]\tvalid_0's binary_logloss: 0.0259701\tvalid_1's binary_logloss: 0.0315086\n",
      "[200]\tvalid_0's binary_logloss: 0.0132153\tvalid_1's binary_logloss: 0.0239087\n",
      "[300]\tvalid_0's binary_logloss: 0.0142855\tvalid_1's binary_logloss: 0.0288485\n",
      "[400]\tvalid_0's binary_logloss: 0.197659\tvalid_1's binary_logloss: 0.237138\n"
     ]
    },
    {
     "name": "stderr",
     "output_type": "stream",
     "text": [
      "bagging, val_score: 0.021666:  40%|##################8                            | 4/10 [00:52<01:20, 13.35s/it]\u001b[32m[I 2023-03-31 07:21:09,068]\u001b[0m Trial 30 finished with value: 0.021665551200347275 and parameters: {'bagging_fraction': 0.623305975058501, 'bagging_freq': 1}. Best is trial 27 with value: 0.021665551200347275.\u001b[0m\n",
      "bagging, val_score: 0.021666:  40%|##################8                            | 4/10 [00:52<01:20, 13.35s/it]"
     ]
    },
    {
     "name": "stdout",
     "output_type": "stream",
     "text": [
      "Early stopping, best iteration is:\n",
      "[369]\tvalid_0's binary_logloss: 0.00777246\tvalid_1's binary_logloss: 0.0216656\n",
      "[100]\tvalid_0's binary_logloss: 0.0225033\tvalid_1's binary_logloss: 0.0281397\n",
      "[200]\tvalid_0's binary_logloss: 0.013965\tvalid_1's binary_logloss: 0.0238898\n",
      "[300]\tvalid_0's binary_logloss: 0.00939774\tvalid_1's binary_logloss: 0.0220636\n",
      "[400]\tvalid_0's binary_logloss: 0.00681257\tvalid_1's binary_logloss: 0.02158\n",
      "[500]\tvalid_0's binary_logloss: 0.00486853\tvalid_1's binary_logloss: 0.0215335\n"
     ]
    },
    {
     "name": "stderr",
     "output_type": "stream",
     "text": [
      "bagging, val_score: 0.021444:  50%|#######################5                       | 5/10 [01:17<01:28, 17.74s/it]\u001b[32m[I 2023-03-31 07:21:34,603]\u001b[0m Trial 31 finished with value: 0.021444135133538225 and parameters: {'bagging_fraction': 0.9298096628348859, 'bagging_freq': 4}. Best is trial 31 with value: 0.021444135133538225.\u001b[0m\n",
      "bagging, val_score: 0.021444:  50%|#######################5                       | 5/10 [01:17<01:28, 17.74s/it]"
     ]
    },
    {
     "name": "stdout",
     "output_type": "stream",
     "text": [
      "Early stopping, best iteration is:\n",
      "[427]\tvalid_0's binary_logloss: 0.00612942\tvalid_1's binary_logloss: 0.0214441\n",
      "[100]\tvalid_0's binary_logloss: 0.022887\tvalid_1's binary_logloss: 0.0292965\n",
      "[200]\tvalid_0's binary_logloss: 0.0131148\tvalid_1's binary_logloss: 0.0245777\n",
      "[300]\tvalid_0's binary_logloss: 0.0100317\tvalid_1's binary_logloss: 0.0252873\n",
      "[400]\tvalid_0's binary_logloss: 0.00736129\tvalid_1's binary_logloss: 0.0247686\n",
      "[500]\tvalid_0's binary_logloss: 0.0349352\tvalid_1's binary_logloss: 0.0588033\n"
     ]
    },
    {
     "name": "stderr",
     "output_type": "stream",
     "text": [
      "bagging, val_score: 0.021444:  60%|############################2                  | 6/10 [01:46<01:26, 21.55s/it]\u001b[32m[I 2023-03-31 07:22:03,535]\u001b[0m Trial 32 finished with value: 0.021444135133538225 and parameters: {'bagging_fraction': 0.45057718455590956, 'bagging_freq': 1}. Best is trial 31 with value: 0.021444135133538225.\u001b[0m\n",
      "bagging, val_score: 0.021444:  60%|############################2                  | 6/10 [01:46<01:26, 21.55s/it]"
     ]
    },
    {
     "name": "stdout",
     "output_type": "stream",
     "text": [
      "Early stopping, best iteration is:\n",
      "[427]\tvalid_0's binary_logloss: 0.00612942\tvalid_1's binary_logloss: 0.0214441\n",
      "[100]\tvalid_0's binary_logloss: 0.0238613\tvalid_1's binary_logloss: 0.03048\n",
      "[200]\tvalid_0's binary_logloss: 0.0139011\tvalid_1's binary_logloss: 0.0248146\n",
      "[300]\tvalid_0's binary_logloss: 0.00951588\tvalid_1's binary_logloss: 0.0233683\n",
      "[400]\tvalid_0's binary_logloss: 0.00752183\tvalid_1's binary_logloss: 0.0238709\n",
      "[500]\tvalid_0's binary_logloss: 0.00841844\tvalid_1's binary_logloss: 0.0304088\n"
     ]
    },
    {
     "name": "stderr",
     "output_type": "stream",
     "text": [
      "bagging, val_score: 0.021444:  70%|################################9              | 7/10 [01:59<00:56, 18.76s/it]\u001b[32m[I 2023-03-31 07:22:16,549]\u001b[0m Trial 33 finished with value: 0.021444135133538225 and parameters: {'bagging_fraction': 0.5098052078020474, 'bagging_freq': 5}. Best is trial 31 with value: 0.021444135133538225.\u001b[0m\n",
      "bagging, val_score: 0.021444:  70%|################################9              | 7/10 [01:59<00:56, 18.76s/it]"
     ]
    },
    {
     "name": "stdout",
     "output_type": "stream",
     "text": [
      "Early stopping, best iteration is:\n",
      "[427]\tvalid_0's binary_logloss: 0.00612942\tvalid_1's binary_logloss: 0.0214441\n",
      "[100]\tvalid_0's binary_logloss: 0.0238741\tvalid_1's binary_logloss: 0.0297822\n",
      "[200]\tvalid_0's binary_logloss: 0.0146472\tvalid_1's binary_logloss: 0.0246737\n",
      "[300]\tvalid_0's binary_logloss: 0.00931258\tvalid_1's binary_logloss: 0.0221684\n",
      "[400]\tvalid_0's binary_logloss: 0.00678093\tvalid_1's binary_logloss: 0.0216317\n",
      "[500]\tvalid_0's binary_logloss: 0.00511881\tvalid_1's binary_logloss: 0.0216467\n"
     ]
    },
    {
     "name": "stderr",
     "output_type": "stream",
     "text": [
      "bagging, val_score: 0.021444:  80%|#####################################6         | 8/10 [02:11<00:32, 16.47s/it]\u001b[32m[I 2023-03-31 07:22:28,115]\u001b[0m Trial 34 finished with value: 0.021444135133538225 and parameters: {'bagging_fraction': 0.9749358676005101, 'bagging_freq': 1}. Best is trial 31 with value: 0.021444135133538225.\u001b[0m\n",
      "bagging, val_score: 0.021444:  80%|#####################################6         | 8/10 [02:11<00:32, 16.47s/it]"
     ]
    },
    {
     "name": "stdout",
     "output_type": "stream",
     "text": [
      "Early stopping, best iteration is:\n",
      "[427]\tvalid_0's binary_logloss: 0.00612942\tvalid_1's binary_logloss: 0.0214441\n",
      "[100]\tvalid_0's binary_logloss: 0.0218379\tvalid_1's binary_logloss: 0.0276905\n",
      "[200]\tvalid_0's binary_logloss: 0.012863\tvalid_1's binary_logloss: 0.0228582\n",
      "[300]\tvalid_0's binary_logloss: 0.00871705\tvalid_1's binary_logloss: 0.0214615\n",
      "[400]\tvalid_0's binary_logloss: 0.00640635\tvalid_1's binary_logloss: 0.0213618\n",
      "[500]\tvalid_0's binary_logloss: 0.00484131\tvalid_1's binary_logloss: 0.0214575\n"
     ]
    },
    {
     "name": "stderr",
     "output_type": "stream",
     "text": [
      "bagging, val_score: 0.021286:  90%|##########################################3    | 9/10 [02:22<00:15, 15.02s/it]\u001b[32m[I 2023-03-31 07:22:39,943]\u001b[0m Trial 35 finished with value: 0.02128614477294543 and parameters: {'bagging_fraction': 0.9032795316692634, 'bagging_freq': 6}. Best is trial 35 with value: 0.02128614477294543.\u001b[0m\n",
      "bagging, val_score: 0.021286:  90%|##########################################3    | 9/10 [02:22<00:15, 15.02s/it]"
     ]
    },
    {
     "name": "stdout",
     "output_type": "stream",
     "text": [
      "Early stopping, best iteration is:\n",
      "[419]\tvalid_0's binary_logloss: 0.00600418\tvalid_1's binary_logloss: 0.0212861\n",
      "[100]\tvalid_0's binary_logloss: 0.0224317\tvalid_1's binary_logloss: 0.0287654\n",
      "[200]\tvalid_0's binary_logloss: 0.0161321\tvalid_1's binary_logloss: 0.0289295\n",
      "[300]\tvalid_0's binary_logloss: 0.0973976\tvalid_1's binary_logloss: 0.118023\n",
      "[400]\tvalid_0's binary_logloss: 0.797696\tvalid_1's binary_logloss: 0.831038\n",
      "[500]\tvalid_0's binary_logloss: 2.51096\tvalid_1's binary_logloss: 2.57147\n"
     ]
    },
    {
     "name": "stderr",
     "output_type": "stream",
     "text": [
      "bagging, val_score: 0.021286: 100%|##############################################| 10/10 [02:36<00:00, 14.45s/it]\u001b[32m[I 2023-03-31 07:22:53,118]\u001b[0m Trial 36 finished with value: 0.02128614477294543 and parameters: {'bagging_fraction': 0.5291170654684421, 'bagging_freq': 2}. Best is trial 35 with value: 0.02128614477294543.\u001b[0m\n",
      "bagging, val_score: 0.021286: 100%|##############################################| 10/10 [02:36<00:00, 15.61s/it]\n"
     ]
    },
    {
     "name": "stdout",
     "output_type": "stream",
     "text": [
      "Early stopping, best iteration is:\n",
      "[419]\tvalid_0's binary_logloss: 0.00600418\tvalid_1's binary_logloss: 0.0212861\n"
     ]
    },
    {
     "name": "stderr",
     "output_type": "stream",
     "text": [
      "feature_fraction_stage2, val_score: 0.021286:   0%|                                        | 0/3 [00:00<?, ?it/s]"
     ]
    },
    {
     "name": "stdout",
     "output_type": "stream",
     "text": [
      "[100]\tvalid_0's binary_logloss: 0.0218379\tvalid_1's binary_logloss: 0.0276905\n",
      "[200]\tvalid_0's binary_logloss: 0.012863\tvalid_1's binary_logloss: 0.0228582\n",
      "[300]\tvalid_0's binary_logloss: 0.00871705\tvalid_1's binary_logloss: 0.0214615\n",
      "[400]\tvalid_0's binary_logloss: 0.00640635\tvalid_1's binary_logloss: 0.0213618\n",
      "[500]\tvalid_0's binary_logloss: 0.00484131\tvalid_1's binary_logloss: 0.0214575\n"
     ]
    },
    {
     "name": "stderr",
     "output_type": "stream",
     "text": [
      "feature_fraction_stage2, val_score: 0.021286:  33%|##########6                     | 1/3 [00:12<00:25, 12.84s/it]\u001b[32m[I 2023-03-31 07:23:05,957]\u001b[0m Trial 37 finished with value: 0.021286144772945423 and parameters: {'feature_fraction': 0.9520000000000001}. Best is trial 37 with value: 0.021286144772945423.\u001b[0m\n",
      "feature_fraction_stage2, val_score: 0.021286:  33%|##########6                     | 1/3 [00:12<00:25, 12.84s/it]"
     ]
    },
    {
     "name": "stdout",
     "output_type": "stream",
     "text": [
      "Early stopping, best iteration is:\n",
      "[419]\tvalid_0's binary_logloss: 0.00600418\tvalid_1's binary_logloss: 0.0212861\n",
      "[100]\tvalid_0's binary_logloss: 0.0218379\tvalid_1's binary_logloss: 0.0276905\n",
      "[200]\tvalid_0's binary_logloss: 0.012863\tvalid_1's binary_logloss: 0.0228582\n",
      "[300]\tvalid_0's binary_logloss: 0.00871705\tvalid_1's binary_logloss: 0.0214615\n",
      "[400]\tvalid_0's binary_logloss: 0.00640635\tvalid_1's binary_logloss: 0.0213618\n",
      "[500]\tvalid_0's binary_logloss: 0.00484131\tvalid_1's binary_logloss: 0.0214575\n"
     ]
    },
    {
     "name": "stderr",
     "output_type": "stream",
     "text": [
      "feature_fraction_stage2, val_score: 0.021286:  67%|#####################3          | 2/3 [00:25<00:12, 12.85s/it]\u001b[32m[I 2023-03-31 07:23:18,810]\u001b[0m Trial 38 finished with value: 0.021286144772945423 and parameters: {'feature_fraction': 0.92}. Best is trial 37 with value: 0.021286144772945423.\u001b[0m\n",
      "feature_fraction_stage2, val_score: 0.021286:  67%|#####################3          | 2/3 [00:25<00:12, 12.85s/it]"
     ]
    },
    {
     "name": "stdout",
     "output_type": "stream",
     "text": [
      "Early stopping, best iteration is:\n",
      "[419]\tvalid_0's binary_logloss: 0.00600418\tvalid_1's binary_logloss: 0.0212861\n",
      "[100]\tvalid_0's binary_logloss: 0.0218379\tvalid_1's binary_logloss: 0.0276905\n",
      "[200]\tvalid_0's binary_logloss: 0.012863\tvalid_1's binary_logloss: 0.0228582\n",
      "[300]\tvalid_0's binary_logloss: 0.00871705\tvalid_1's binary_logloss: 0.0214615\n",
      "[400]\tvalid_0's binary_logloss: 0.00640635\tvalid_1's binary_logloss: 0.0213618\n",
      "[500]\tvalid_0's binary_logloss: 0.00484131\tvalid_1's binary_logloss: 0.0214575\n"
     ]
    },
    {
     "name": "stderr",
     "output_type": "stream",
     "text": [
      "feature_fraction_stage2, val_score: 0.021286: 100%|################################| 3/3 [00:37<00:00, 12.60s/it]\u001b[32m[I 2023-03-31 07:23:31,113]\u001b[0m Trial 39 finished with value: 0.021286144772945423 and parameters: {'feature_fraction': 0.9840000000000001}. Best is trial 37 with value: 0.021286144772945423.\u001b[0m\n",
      "feature_fraction_stage2, val_score: 0.021286: 100%|################################| 3/3 [00:37<00:00, 12.66s/it]\n"
     ]
    },
    {
     "name": "stdout",
     "output_type": "stream",
     "text": [
      "Early stopping, best iteration is:\n",
      "[419]\tvalid_0's binary_logloss: 0.00600418\tvalid_1's binary_logloss: 0.0212861\n"
     ]
    },
    {
     "name": "stderr",
     "output_type": "stream",
     "text": [
      "regularization_factors, val_score: 0.021286:   0%|                                        | 0/20 [00:00<?, ?it/s]"
     ]
    },
    {
     "name": "stdout",
     "output_type": "stream",
     "text": [
      "[100]\tvalid_0's binary_logloss: 0.0251386\tvalid_1's binary_logloss: 0.0278322\n",
      "[200]\tvalid_0's binary_logloss: 0.0190678\tvalid_1's binary_logloss: 0.023948\n",
      "[300]\tvalid_0's binary_logloss: 0.0158188\tvalid_1's binary_logloss: 0.0225003\n",
      "[400]\tvalid_0's binary_logloss: 0.0138055\tvalid_1's binary_logloss: 0.021927\n",
      "[500]\tvalid_0's binary_logloss: 0.0122677\tvalid_1's binary_logloss: 0.02162\n"
     ]
    },
    {
     "name": "stderr",
     "output_type": "stream",
     "text": [
      "regularization_factors, val_score: 0.021286:   5%|#6                              | 1/20 [00:15<04:58, 15.69s/it]\u001b[32m[I 2023-03-31 07:23:46,808]\u001b[0m Trial 40 finished with value: 0.021286144772945423 and parameters: {'lambda_l1': 3.69669470632784e-07, 'lambda_l2': 4.967350009658437}. Best is trial 40 with value: 0.021286144772945423.\u001b[0m\n",
      "regularization_factors, val_score: 0.021286:   5%|#6                              | 1/20 [00:15<04:58, 15.69s/it]"
     ]
    },
    {
     "name": "stdout",
     "output_type": "stream",
     "text": [
      "Early stopping, best iteration is:\n",
      "[419]\tvalid_0's binary_logloss: 0.00600418\tvalid_1's binary_logloss: 0.0212861\n",
      "[100]\tvalid_0's binary_logloss: 0.0223489\tvalid_1's binary_logloss: 0.0285773\n",
      "[200]\tvalid_0's binary_logloss: 0.0130389\tvalid_1's binary_logloss: 0.0233208\n",
      "[300]\tvalid_0's binary_logloss: 0.00881238\tvalid_1's binary_logloss: 0.0218468\n",
      "[400]\tvalid_0's binary_logloss: 0.00642785\tvalid_1's binary_logloss: 0.0216486\n",
      "[500]\tvalid_0's binary_logloss: 0.00478929\tvalid_1's binary_logloss: 0.0217298\n"
     ]
    },
    {
     "name": "stderr",
     "output_type": "stream",
     "text": [
      "regularization_factors, val_score: 0.021286:  10%|###2                            | 2/20 [00:27<04:02, 13.45s/it]\u001b[32m[I 2023-03-31 07:23:58,686]\u001b[0m Trial 41 finished with value: 0.021286144772945423 and parameters: {'lambda_l1': 1.2474321299300065e-06, 'lambda_l2': 2.60429201040895e-08}. Best is trial 40 with value: 0.021286144772945423.\u001b[0m\n",
      "regularization_factors, val_score: 0.021286:  10%|###2                            | 2/20 [00:27<04:02, 13.45s/it]"
     ]
    },
    {
     "name": "stdout",
     "output_type": "stream",
     "text": [
      "Early stopping, best iteration is:\n",
      "[419]\tvalid_0's binary_logloss: 0.00600418\tvalid_1's binary_logloss: 0.0212861\n",
      "[100]\tvalid_0's binary_logloss: 0.0232871\tvalid_1's binary_logloss: 0.0295159\n",
      "[200]\tvalid_0's binary_logloss: 0.0129025\tvalid_1's binary_logloss: 0.0239297\n",
      "[300]\tvalid_0's binary_logloss: 0.00886822\tvalid_1's binary_logloss: 0.0225985\n",
      "[400]\tvalid_0's binary_logloss: 0.0065471\tvalid_1's binary_logloss: 0.0225137\n",
      "[500]\tvalid_0's binary_logloss: 0.0578772\tvalid_1's binary_logloss: 0.0885727\n"
     ]
    },
    {
     "name": "stderr",
     "output_type": "stream",
     "text": [
      "regularization_factors, val_score: 0.021286:  15%|####8                           | 3/20 [00:39<03:36, 12.75s/it]\u001b[32m[I 2023-03-31 07:24:10,597]\u001b[0m Trial 42 finished with value: 0.021286144772945423 and parameters: {'lambda_l1': 1.7619399861668996e-05, 'lambda_l2': 3.249159034047097e-05}. Best is trial 40 with value: 0.021286144772945423.\u001b[0m\n",
      "regularization_factors, val_score: 0.021286:  15%|####8                           | 3/20 [00:39<03:36, 12.75s/it]"
     ]
    },
    {
     "name": "stdout",
     "output_type": "stream",
     "text": [
      "Early stopping, best iteration is:\n",
      "[419]\tvalid_0's binary_logloss: 0.00600418\tvalid_1's binary_logloss: 0.0212861\n",
      "[100]\tvalid_0's binary_logloss: 0.0216115\tvalid_1's binary_logloss: 0.0262574\n",
      "[200]\tvalid_0's binary_logloss: 0.0148035\tvalid_1's binary_logloss: 0.0226301\n",
      "[300]\tvalid_0's binary_logloss: 0.0114429\tvalid_1's binary_logloss: 0.0214011\n",
      "[400]\tvalid_0's binary_logloss: 0.00961721\tvalid_1's binary_logloss: 0.0212434\n",
      "[500]\tvalid_0's binary_logloss: 0.00833346\tvalid_1's binary_logloss: 0.0213273\n"
     ]
    },
    {
     "name": "stderr",
     "output_type": "stream",
     "text": [
      "regularization_factors, val_score: 0.021229:  20%|######4                         | 4/20 [00:55<03:42, 13.90s/it]\u001b[32m[I 2023-03-31 07:24:26,263]\u001b[0m Trial 43 finished with value: 0.021229104441426675 and parameters: {'lambda_l1': 0.7758416952578865, 'lambda_l2': 1.704022619457826e-05}. Best is trial 43 with value: 0.021229104441426675.\u001b[0m\n",
      "regularization_factors, val_score: 0.021229:  20%|######4                         | 4/20 [00:55<03:42, 13.90s/it]"
     ]
    },
    {
     "name": "stdout",
     "output_type": "stream",
     "text": [
      "Early stopping, best iteration is:\n",
      "[440]\tvalid_0's binary_logloss: 0.00902888\tvalid_1's binary_logloss: 0.0212291\n",
      "[100]\tvalid_0's binary_logloss: 0.0221713\tvalid_1's binary_logloss: 0.0273786\n",
      "[200]\tvalid_0's binary_logloss: 0.013626\tvalid_1's binary_logloss: 0.0224367\n",
      "[300]\tvalid_0's binary_logloss: 0.00993186\tvalid_1's binary_logloss: 0.021331\n",
      "[400]\tvalid_0's binary_logloss: 0.0077796\tvalid_1's binary_logloss: 0.0210929\n"
     ]
    },
    {
     "name": "stderr",
     "output_type": "stream",
     "text": [
      "regularization_factors, val_score: 0.021068:  25%|########                        | 5/20 [01:13<03:53, 15.54s/it]\u001b[32m[I 2023-03-31 07:24:44,721]\u001b[0m Trial 44 finished with value: 0.021067841697568663 and parameters: {'lambda_l1': 0.376641770075484, 'lambda_l2': 1.0902356788008232e-08}. Best is trial 44 with value: 0.021067841697568663.\u001b[0m\n",
      "regularization_factors, val_score: 0.021068:  25%|########                        | 5/20 [01:13<03:53, 15.54s/it]"
     ]
    },
    {
     "name": "stdout",
     "output_type": "stream",
     "text": [
      "Early stopping, best iteration is:\n",
      "[356]\tvalid_0's binary_logloss: 0.00858039\tvalid_1's binary_logloss: 0.0210678\n",
      "[100]\tvalid_0's binary_logloss: 0.0246042\tvalid_1's binary_logloss: 0.0275159\n",
      "[200]\tvalid_0's binary_logloss: 0.0183577\tvalid_1's binary_logloss: 0.0235796\n",
      "[300]\tvalid_0's binary_logloss: 0.0151023\tvalid_1's binary_logloss: 0.0221493\n",
      "[400]\tvalid_0's binary_logloss: 0.0131221\tvalid_1's binary_logloss: 0.0216351\n"
     ]
    },
    {
     "name": "stderr",
     "output_type": "stream",
     "text": [
      "regularization_factors, val_score: 0.021068:  30%|#########6                      | 6/20 [01:27<03:28, 14.87s/it]\u001b[32m[I 2023-03-31 07:24:58,284]\u001b[0m Trial 45 finished with value: 0.021067841697568663 and parameters: {'lambda_l1': 0.00031770437909457456, 'lambda_l2': 3.774983165891319}. Best is trial 44 with value: 0.021067841697568663.\u001b[0m\n",
      "regularization_factors, val_score: 0.021068:  30%|#########6                      | 6/20 [01:27<03:28, 14.87s/it]"
     ]
    },
    {
     "name": "stdout",
     "output_type": "stream",
     "text": [
      "Early stopping, best iteration is:\n",
      "[356]\tvalid_0's binary_logloss: 0.00858039\tvalid_1's binary_logloss: 0.0210678\n",
      "[100]\tvalid_0's binary_logloss: 0.0220159\tvalid_1's binary_logloss: 0.0278719\n",
      "[200]\tvalid_0's binary_logloss: 0.0137772\tvalid_1's binary_logloss: 0.0240565\n",
      "[300]\tvalid_0's binary_logloss: 0.00945763\tvalid_1's binary_logloss: 0.0222706\n",
      "[400]\tvalid_0's binary_logloss: 0.0223491\tvalid_1's binary_logloss: 0.0429596\n"
     ]
    },
    {
     "name": "stderr",
     "output_type": "stream",
     "text": [
      "regularization_factors, val_score: 0.021068:  35%|###########2                    | 7/20 [01:41<03:10, 14.68s/it]\u001b[32m[I 2023-03-31 07:25:12,573]\u001b[0m Trial 46 finished with value: 0.021067841697568663 and parameters: {'lambda_l1': 3.8836418297242235e-07, 'lambda_l2': 3.9096276648396275e-05}. Best is trial 44 with value: 0.021067841697568663.\u001b[0m\n",
      "regularization_factors, val_score: 0.021068:  35%|###########2                    | 7/20 [01:41<03:10, 14.68s/it]"
     ]
    },
    {
     "name": "stdout",
     "output_type": "stream",
     "text": [
      "Early stopping, best iteration is:\n",
      "[356]\tvalid_0's binary_logloss: 0.00858039\tvalid_1's binary_logloss: 0.0210678\n",
      "[100]\tvalid_0's binary_logloss: 0.0233501\tvalid_1's binary_logloss: 0.0291067\n",
      "[200]\tvalid_0's binary_logloss: 0.0133195\tvalid_1's binary_logloss: 0.0244045\n",
      "[300]\tvalid_0's binary_logloss: 0.00958965\tvalid_1's binary_logloss: 0.0255905\n",
      "[400]\tvalid_0's binary_logloss: 0.00698859\tvalid_1's binary_logloss: 0.0249024\n"
     ]
    },
    {
     "name": "stderr",
     "output_type": "stream",
     "text": [
      "regularization_factors, val_score: 0.021068:  40%|############8                   | 8/20 [01:53<02:47, 13.94s/it]\u001b[32m[I 2023-03-31 07:25:24,921]\u001b[0m Trial 47 finished with value: 0.021067841697568663 and parameters: {'lambda_l1': 3.80343296755663e-05, 'lambda_l2': 6.195980155890959e-05}. Best is trial 44 with value: 0.021067841697568663.\u001b[0m\n",
      "regularization_factors, val_score: 0.021068:  40%|############8                   | 8/20 [01:53<02:47, 13.94s/it]"
     ]
    },
    {
     "name": "stdout",
     "output_type": "stream",
     "text": [
      "Early stopping, best iteration is:\n",
      "[356]\tvalid_0's binary_logloss: 0.00858039\tvalid_1's binary_logloss: 0.0210678\n",
      "[100]\tvalid_0's binary_logloss: 0.0231821\tvalid_1's binary_logloss: 0.0275608\n",
      "[200]\tvalid_0's binary_logloss: 0.0155185\tvalid_1's binary_logloss: 0.0229129\n",
      "[300]\tvalid_0's binary_logloss: 0.0120394\tvalid_1's binary_logloss: 0.0214485\n",
      "[400]\tvalid_0's binary_logloss: 0.010264\tvalid_1's binary_logloss: 0.0213168\n"
     ]
    },
    {
     "name": "stderr",
     "output_type": "stream",
     "text": [
      "regularization_factors, val_score: 0.021068:  45%|##############4                 | 9/20 [02:08<02:35, 14.17s/it]\u001b[32m[I 2023-03-31 07:25:39,592]\u001b[0m Trial 48 finished with value: 0.021067841697568663 and parameters: {'lambda_l1': 0.966218213951154, 'lambda_l2': 2.441836031255012e-07}. Best is trial 44 with value: 0.021067841697568663.\u001b[0m\n",
      "regularization_factors, val_score: 0.021068:  45%|##############4                 | 9/20 [02:08<02:35, 14.17s/it]"
     ]
    },
    {
     "name": "stdout",
     "output_type": "stream",
     "text": [
      "Early stopping, best iteration is:\n",
      "[356]\tvalid_0's binary_logloss: 0.00858039\tvalid_1's binary_logloss: 0.0210678\n",
      "[100]\tvalid_0's binary_logloss: 0.0218496\tvalid_1's binary_logloss: 0.0281545\n",
      "[200]\tvalid_0's binary_logloss: 0.0136016\tvalid_1's binary_logloss: 0.0241842\n",
      "[300]\tvalid_0's binary_logloss: 0.00916228\tvalid_1's binary_logloss: 0.0224062\n",
      "[400]\tvalid_0's binary_logloss: 0.00665195\tvalid_1's binary_logloss: 0.0220865\n"
     ]
    },
    {
     "name": "stderr",
     "output_type": "stream",
     "text": [
      "regularization_factors, val_score: 0.021068:  50%|###############5               | 10/20 [02:20<02:14, 13.42s/it]\u001b[32m[I 2023-03-31 07:25:51,339]\u001b[0m Trial 49 finished with value: 0.021067841697568663 and parameters: {'lambda_l1': 2.4807630614584652e-06, 'lambda_l2': 6.240021158385467e-05}. Best is trial 44 with value: 0.021067841697568663.\u001b[0m\n",
      "regularization_factors, val_score: 0.021068:  50%|###############5               | 10/20 [02:20<02:14, 13.42s/it]"
     ]
    },
    {
     "name": "stdout",
     "output_type": "stream",
     "text": [
      "Early stopping, best iteration is:\n",
      "[356]\tvalid_0's binary_logloss: 0.00858039\tvalid_1's binary_logloss: 0.0210678\n",
      "[100]\tvalid_0's binary_logloss: 0.0226517\tvalid_1's binary_logloss: 0.0286889\n",
      "[200]\tvalid_0's binary_logloss: 0.0139664\tvalid_1's binary_logloss: 0.0243375\n",
      "[300]\tvalid_0's binary_logloss: 0.00954133\tvalid_1's binary_logloss: 0.0229758\n",
      "[400]\tvalid_0's binary_logloss: 0.00700897\tvalid_1's binary_logloss: 0.0227142\n"
     ]
    },
    {
     "name": "stderr",
     "output_type": "stream",
     "text": [
      "regularization_factors, val_score: 0.021068:  55%|#################              | 11/20 [02:31<01:53, 12.65s/it]\u001b[32m[I 2023-03-31 07:26:02,233]\u001b[0m Trial 50 finished with value: 0.021067841697568663 and parameters: {'lambda_l1': 0.013492156880574214, 'lambda_l2': 1.3586253444035436e-08}. Best is trial 44 with value: 0.021067841697568663.\u001b[0m\n",
      "regularization_factors, val_score: 0.021068:  55%|#################              | 11/20 [02:31<01:53, 12.65s/it]"
     ]
    },
    {
     "name": "stdout",
     "output_type": "stream",
     "text": [
      "Early stopping, best iteration is:\n",
      "[356]\tvalid_0's binary_logloss: 0.00858039\tvalid_1's binary_logloss: 0.0210678\n",
      "[100]\tvalid_0's binary_logloss: 0.0229985\tvalid_1's binary_logloss: 0.0279453\n",
      "[200]\tvalid_0's binary_logloss: 0.0151368\tvalid_1's binary_logloss: 0.0234481\n",
      "[300]\tvalid_0's binary_logloss: 0.0108726\tvalid_1's binary_logloss: 0.0217872\n",
      "[400]\tvalid_0's binary_logloss: 0.00841623\tvalid_1's binary_logloss: 0.0215111\n"
     ]
    },
    {
     "name": "stderr",
     "output_type": "stream",
     "text": [
      "regularization_factors, val_score: 0.021068:  60%|##################5            | 12/20 [02:41<01:36, 12.07s/it]\u001b[32m[I 2023-03-31 07:26:12,979]\u001b[0m Trial 51 finished with value: 0.021067841697568663 and parameters: {'lambda_l1': 0.0013998743954178377, 'lambda_l2': 0.2043193156352033}. Best is trial 44 with value: 0.021067841697568663.\u001b[0m\n",
      "regularization_factors, val_score: 0.021068:  60%|##################5            | 12/20 [02:41<01:36, 12.07s/it]"
     ]
    },
    {
     "name": "stdout",
     "output_type": "stream",
     "text": [
      "Early stopping, best iteration is:\n",
      "[356]\tvalid_0's binary_logloss: 0.00858039\tvalid_1's binary_logloss: 0.0210678\n",
      "[100]\tvalid_0's binary_logloss: 0.0225952\tvalid_1's binary_logloss: 0.0281921\n",
      "[200]\tvalid_0's binary_logloss: 0.0135657\tvalid_1's binary_logloss: 0.0233624\n",
      "[300]\tvalid_0's binary_logloss: 0.00935388\tvalid_1's binary_logloss: 0.0217187\n",
      "[400]\tvalid_0's binary_logloss: 0.00706491\tvalid_1's binary_logloss: 0.0216652\n"
     ]
    },
    {
     "name": "stderr",
     "output_type": "stream",
     "text": [
      "regularization_factors, val_score: 0.021068:  65%|####################1          | 13/20 [02:52<01:21, 11.59s/it]\u001b[32m[I 2023-03-31 07:26:23,457]\u001b[0m Trial 52 finished with value: 0.021067841697568663 and parameters: {'lambda_l1': 1.5685831422498808e-08, 'lambda_l2': 0.0184349355736503}. Best is trial 44 with value: 0.021067841697568663.\u001b[0m\n",
      "regularization_factors, val_score: 0.021068:  65%|####################1          | 13/20 [02:52<01:21, 11.59s/it]"
     ]
    },
    {
     "name": "stdout",
     "output_type": "stream",
     "text": [
      "Early stopping, best iteration is:\n",
      "[356]\tvalid_0's binary_logloss: 0.00858039\tvalid_1's binary_logloss: 0.0210678\n",
      "[100]\tvalid_0's binary_logloss: 0.022121\tvalid_1's binary_logloss: 0.0282036\n",
      "[200]\tvalid_0's binary_logloss: 0.0138898\tvalid_1's binary_logloss: 0.0241642\n",
      "[300]\tvalid_0's binary_logloss: 0.00969084\tvalid_1's binary_logloss: 0.0225599\n",
      "[400]\tvalid_0's binary_logloss: 0.00708186\tvalid_1's binary_logloss: 0.0220816\n"
     ]
    },
    {
     "name": "stderr",
     "output_type": "stream",
     "text": [
      "regularization_factors, val_score: 0.021068:  70%|#####################7         | 14/20 [03:02<01:06, 11.06s/it]\u001b[32m[I 2023-03-31 07:26:33,300]\u001b[0m Trial 53 finished with value: 0.021067841697568663 and parameters: {'lambda_l1': 0.04077443254725296, 'lambda_l2': 0.004970109578292389}. Best is trial 44 with value: 0.021067841697568663.\u001b[0m\n",
      "regularization_factors, val_score: 0.021068:  70%|#####################7         | 14/20 [03:02<01:06, 11.06s/it]"
     ]
    },
    {
     "name": "stdout",
     "output_type": "stream",
     "text": [
      "Early stopping, best iteration is:\n",
      "[356]\tvalid_0's binary_logloss: 0.00858039\tvalid_1's binary_logloss: 0.0210678\n",
      "[100]\tvalid_0's binary_logloss: 0.0260668\tvalid_1's binary_logloss: 0.0286664\n",
      "[200]\tvalid_0's binary_logloss: 0.0208366\tvalid_1's binary_logloss: 0.0249131\n",
      "[300]\tvalid_0's binary_logloss: 0.0189878\tvalid_1's binary_logloss: 0.0238739\n",
      "[400]\tvalid_0's binary_logloss: 0.0181306\tvalid_1's binary_logloss: 0.0235737\n"
     ]
    },
    {
     "name": "stderr",
     "output_type": "stream",
     "text": [
      "regularization_factors, val_score: 0.021068:  75%|#######################2       | 15/20 [03:15<00:59, 11.86s/it]\u001b[32m[I 2023-03-31 07:26:47,025]\u001b[0m Trial 54 finished with value: 0.021067841697568663 and parameters: {'lambda_l1': 4.154614773778234, 'lambda_l2': 1.0304895598765879e-06}. Best is trial 44 with value: 0.021067841697568663.\u001b[0m\n",
      "regularization_factors, val_score: 0.021068:  75%|#######################2       | 15/20 [03:15<00:59, 11.86s/it]"
     ]
    },
    {
     "name": "stdout",
     "output_type": "stream",
     "text": [
      "Early stopping, best iteration is:\n",
      "[356]\tvalid_0's binary_logloss: 0.00858039\tvalid_1's binary_logloss: 0.0210678\n",
      "[100]\tvalid_0's binary_logloss: 0.0223782\tvalid_1's binary_logloss: 0.028161\n",
      "[200]\tvalid_0's binary_logloss: 0.0135605\tvalid_1's binary_logloss: 0.0240038\n",
      "[300]\tvalid_0's binary_logloss: 0.00916722\tvalid_1's binary_logloss: 0.0223372\n",
      "[400]\tvalid_0's binary_logloss: 0.00687157\tvalid_1's binary_logloss: 0.0221332\n"
     ]
    },
    {
     "name": "stderr",
     "output_type": "stream",
     "text": [
      "regularization_factors, val_score: 0.021068:  80%|########################8      | 16/20 [03:25<00:45, 11.30s/it]\u001b[32m[I 2023-03-31 07:26:57,019]\u001b[0m Trial 55 finished with value: 0.021067841697568663 and parameters: {'lambda_l1': 0.0006191055439680128, 'lambda_l2': 0.0011281858932275684}. Best is trial 44 with value: 0.021067841697568663.\u001b[0m\n",
      "regularization_factors, val_score: 0.021068:  80%|########################8      | 16/20 [03:25<00:45, 11.30s/it]"
     ]
    },
    {
     "name": "stdout",
     "output_type": "stream",
     "text": [
      "Early stopping, best iteration is:\n",
      "[356]\tvalid_0's binary_logloss: 0.00858039\tvalid_1's binary_logloss: 0.0210678\n",
      "[100]\tvalid_0's binary_logloss: 0.0223138\tvalid_1's binary_logloss: 0.0260294\n",
      "[200]\tvalid_0's binary_logloss: 0.0161429\tvalid_1's binary_logloss: 0.0226303\n",
      "[300]\tvalid_0's binary_logloss: 0.0127724\tvalid_1's binary_logloss: 0.021461\n",
      "[400]\tvalid_0's binary_logloss: 0.0106971\tvalid_1's binary_logloss: 0.0210782\n",
      "[500]\tvalid_0's binary_logloss: 0.00900662\tvalid_1's binary_logloss: 0.0209565\n"
     ]
    },
    {
     "name": "stderr",
     "output_type": "stream",
     "text": [
      "regularization_factors, val_score: 0.020913:  85%|##########################3    | 17/20 [03:39<00:36, 12.01s/it]\u001b[32m[I 2023-03-31 07:27:10,672]\u001b[0m Trial 56 finished with value: 0.020912949656761343 and parameters: {'lambda_l1': 0.02203141070082544, 'lambda_l2': 1.2589046950532452}. Best is trial 56 with value: 0.020912949656761343.\u001b[0m\n",
      "regularization_factors, val_score: 0.020913:  85%|##########################3    | 17/20 [03:39<00:36, 12.01s/it]"
     ]
    },
    {
     "name": "stdout",
     "output_type": "stream",
     "text": [
      "Early stopping, best iteration is:\n",
      "[479]\tvalid_0's binary_logloss: 0.00932244\tvalid_1's binary_logloss: 0.0209129\n",
      "[100]\tvalid_0's binary_logloss: 0.0231082\tvalid_1's binary_logloss: 0.0286253\n",
      "[200]\tvalid_0's binary_logloss: 0.0142387\tvalid_1's binary_logloss: 0.0237274\n",
      "[300]\tvalid_0's binary_logloss: 0.00990872\tvalid_1's binary_logloss: 0.0218776\n",
      "[400]\tvalid_0's binary_logloss: 0.00721864\tvalid_1's binary_logloss: 0.0213392\n",
      "[500]\tvalid_0's binary_logloss: 0.00538851\tvalid_1's binary_logloss: 0.0213061\n"
     ]
    },
    {
     "name": "stderr",
     "output_type": "stream",
     "text": [
      "regularization_factors, val_score: 0.020913:  90%|###########################9   | 18/20 [03:51<00:24, 12.14s/it]\u001b[32m[I 2023-03-31 07:27:23,109]\u001b[0m Trial 57 finished with value: 0.020912949656761343 and parameters: {'lambda_l1': 0.04807297237794722, 'lambda_l2': 0.03989443323896577}. Best is trial 56 with value: 0.020912949656761343.\u001b[0m\n",
      "regularization_factors, val_score: 0.020913:  90%|###########################9   | 18/20 [03:51<00:24, 12.14s/it]"
     ]
    },
    {
     "name": "stdout",
     "output_type": "stream",
     "text": [
      "Early stopping, best iteration is:\n",
      "[479]\tvalid_0's binary_logloss: 0.00932244\tvalid_1's binary_logloss: 0.0209129\n",
      "[100]\tvalid_0's binary_logloss: 0.0229025\tvalid_1's binary_logloss: 0.0280966\n",
      "[200]\tvalid_0's binary_logloss: 0.0143165\tvalid_1's binary_logloss: 0.0231805\n",
      "[300]\tvalid_0's binary_logloss: 0.0103143\tvalid_1's binary_logloss: 0.02183\n",
      "[400]\tvalid_0's binary_logloss: 0.00778777\tvalid_1's binary_logloss: 0.0213698\n",
      "[500]\tvalid_0's binary_logloss: 0.00600918\tvalid_1's binary_logloss: 0.0213306\n"
     ]
    },
    {
     "name": "stderr",
     "output_type": "stream",
     "text": [
      "regularization_factors, val_score: 0.020913:  95%|#############################4 | 19/20 [04:04<00:12, 12.19s/it]\u001b[32m[I 2023-03-31 07:27:35,434]\u001b[0m Trial 58 finished with value: 0.020912949656761343 and parameters: {'lambda_l1': 0.010284797193951303, 'lambda_l2': 0.12853460156875715}. Best is trial 56 with value: 0.020912949656761343.\u001b[0m\n",
      "regularization_factors, val_score: 0.020913:  95%|#############################4 | 19/20 [04:04<00:12, 12.19s/it]"
     ]
    },
    {
     "name": "stdout",
     "output_type": "stream",
     "text": [
      "Early stopping, best iteration is:\n",
      "[479]\tvalid_0's binary_logloss: 0.00932244\tvalid_1's binary_logloss: 0.0209129\n",
      "[100]\tvalid_0's binary_logloss: 0.0320505\tvalid_1's binary_logloss: 0.0335603\n",
      "[200]\tvalid_0's binary_logloss: 0.0274828\tvalid_1's binary_logloss: 0.0295338\n",
      "[300]\tvalid_0's binary_logloss: 0.0258647\tvalid_1's binary_logloss: 0.0282419\n",
      "[400]\tvalid_0's binary_logloss: 0.0251733\tvalid_1's binary_logloss: 0.0277799\n",
      "[500]\tvalid_0's binary_logloss: 0.0246117\tvalid_1's binary_logloss: 0.0273797\n"
     ]
    },
    {
     "name": "stderr",
     "output_type": "stream",
     "text": [
      "regularization_factors, val_score: 0.020913: 100%|###############################| 20/20 [04:17<00:00, 12.62s/it]\u001b[32m[I 2023-03-31 07:27:49,041]\u001b[0m Trial 59 finished with value: 0.020912949656761343 and parameters: {'lambda_l1': 9.709616424534103, 'lambda_l2': 0.4598424899272604}. Best is trial 56 with value: 0.020912949656761343.\u001b[0m\n",
      "regularization_factors, val_score: 0.020913: 100%|###############################| 20/20 [04:17<00:00, 12.90s/it]\n"
     ]
    },
    {
     "name": "stdout",
     "output_type": "stream",
     "text": [
      "Early stopping, best iteration is:\n",
      "[479]\tvalid_0's binary_logloss: 0.00932244\tvalid_1's binary_logloss: 0.0209129\n"
     ]
    },
    {
     "name": "stderr",
     "output_type": "stream",
     "text": [
      "min_data_in_leaf, val_score: 0.020913:   0%|                                               | 0/5 [00:00<?, ?it/s]"
     ]
    },
    {
     "name": "stdout",
     "output_type": "stream",
     "text": [
      "[100]\tvalid_0's binary_logloss: 0.0227925\tvalid_1's binary_logloss: 0.0263101\n",
      "[200]\tvalid_0's binary_logloss: 0.0164827\tvalid_1's binary_logloss: 0.0228497\n",
      "[300]\tvalid_0's binary_logloss: 0.0130479\tvalid_1's binary_logloss: 0.021468\n",
      "[400]\tvalid_0's binary_logloss: 0.0109324\tvalid_1's binary_logloss: 0.0211473\n",
      "[500]\tvalid_0's binary_logloss: 0.0092144\tvalid_1's binary_logloss: 0.0210345\n"
     ]
    },
    {
     "name": "stderr",
     "output_type": "stream",
     "text": [
      "min_data_in_leaf, val_score: 0.020913:  20%|#######8                               | 1/5 [00:14<00:58, 14.67s/it]\u001b[32m[I 2023-03-31 07:28:03,714]\u001b[0m Trial 60 finished with value: 0.020912949656761343 and parameters: {'min_child_samples': 50}. Best is trial 60 with value: 0.020912949656761343.\u001b[0m\n",
      "min_data_in_leaf, val_score: 0.020913:  20%|#######8                               | 1/5 [00:14<00:58, 14.67s/it]"
     ]
    },
    {
     "name": "stdout",
     "output_type": "stream",
     "text": [
      "Early stopping, best iteration is:\n",
      "[479]\tvalid_0's binary_logloss: 0.00932244\tvalid_1's binary_logloss: 0.0209129\n",
      "[100]\tvalid_0's binary_logloss: 0.0222012\tvalid_1's binary_logloss: 0.0258\n",
      "[200]\tvalid_0's binary_logloss: 0.0159711\tvalid_1's binary_logloss: 0.0223982\n",
      "[300]\tvalid_0's binary_logloss: 0.0128221\tvalid_1's binary_logloss: 0.0214346\n",
      "[400]\tvalid_0's binary_logloss: 0.0107015\tvalid_1's binary_logloss: 0.0210575\n",
      "[500]\tvalid_0's binary_logloss: 0.00907448\tvalid_1's binary_logloss: 0.0210037\n"
     ]
    },
    {
     "name": "stderr",
     "output_type": "stream",
     "text": [
      "min_data_in_leaf, val_score: 0.020913:  40%|###############6                       | 2/5 [00:28<00:42, 14.01s/it]\u001b[32m[I 2023-03-31 07:28:17,259]\u001b[0m Trial 61 finished with value: 0.020912949656761343 and parameters: {'min_child_samples': 25}. Best is trial 60 with value: 0.020912949656761343.\u001b[0m\n",
      "min_data_in_leaf, val_score: 0.020913:  40%|###############6                       | 2/5 [00:28<00:42, 14.01s/it]"
     ]
    },
    {
     "name": "stdout",
     "output_type": "stream",
     "text": [
      "Early stopping, best iteration is:\n",
      "[479]\tvalid_0's binary_logloss: 0.00932244\tvalid_1's binary_logloss: 0.0209129\n",
      "[100]\tvalid_0's binary_logloss: 0.0220518\tvalid_1's binary_logloss: 0.0256611\n",
      "[200]\tvalid_0's binary_logloss: 0.0159962\tvalid_1's binary_logloss: 0.0224783\n",
      "[300]\tvalid_0's binary_logloss: 0.0128544\tvalid_1's binary_logloss: 0.0215809\n",
      "[400]\tvalid_0's binary_logloss: 0.0107176\tvalid_1's binary_logloss: 0.021161\n",
      "[500]\tvalid_0's binary_logloss: 0.00899448\tvalid_1's binary_logloss: 0.0209777\n"
     ]
    },
    {
     "name": "stderr",
     "output_type": "stream",
     "text": [
      "min_data_in_leaf, val_score: 0.020913:  60%|#######################4               | 3/5 [00:42<00:27, 13.93s/it]\u001b[32m[I 2023-03-31 07:28:31,086]\u001b[0m Trial 62 finished with value: 0.020912949656761343 and parameters: {'min_child_samples': 5}. Best is trial 60 with value: 0.020912949656761343.\u001b[0m\n",
      "min_data_in_leaf, val_score: 0.020913:  60%|#######################4               | 3/5 [00:42<00:27, 13.93s/it]"
     ]
    },
    {
     "name": "stdout",
     "output_type": "stream",
     "text": [
      "Early stopping, best iteration is:\n",
      "[479]\tvalid_0's binary_logloss: 0.00932244\tvalid_1's binary_logloss: 0.0209129\n",
      "[100]\tvalid_0's binary_logloss: 0.0222002\tvalid_1's binary_logloss: 0.0258639\n",
      "[200]\tvalid_0's binary_logloss: 0.0160464\tvalid_1's binary_logloss: 0.0225113\n",
      "[300]\tvalid_0's binary_logloss: 0.0127542\tvalid_1's binary_logloss: 0.0213902\n",
      "[400]\tvalid_0's binary_logloss: 0.0106126\tvalid_1's binary_logloss: 0.0210673\n",
      "[500]\tvalid_0's binary_logloss: 0.00890099\tvalid_1's binary_logloss: 0.0208265\n"
     ]
    },
    {
     "name": "stderr",
     "output_type": "stream",
     "text": [
      "min_data_in_leaf, val_score: 0.020820:  80%|###############################2       | 4/5 [00:55<00:13, 13.81s/it]\u001b[32m[I 2023-03-31 07:28:44,722]\u001b[0m Trial 63 finished with value: 0.02081996436169564 and parameters: {'min_child_samples': 10}. Best is trial 63 with value: 0.02081996436169564.\u001b[0m\n",
      "min_data_in_leaf, val_score: 0.020820:  80%|###############################2       | 4/5 [00:55<00:13, 13.81s/it]"
     ]
    },
    {
     "name": "stdout",
     "output_type": "stream",
     "text": [
      "Early stopping, best iteration is:\n",
      "[483]\tvalid_0's binary_logloss: 0.0091744\tvalid_1's binary_logloss: 0.02082\n",
      "[100]\tvalid_0's binary_logloss: 0.0235501\tvalid_1's binary_logloss: 0.026884\n",
      "[200]\tvalid_0's binary_logloss: 0.0169373\tvalid_1's binary_logloss: 0.0230473\n",
      "[300]\tvalid_0's binary_logloss: 0.0134401\tvalid_1's binary_logloss: 0.0216701\n",
      "[400]\tvalid_0's binary_logloss: 0.0113761\tvalid_1's binary_logloss: 0.0214602\n",
      "[500]\tvalid_0's binary_logloss: 0.00955747\tvalid_1's binary_logloss: 0.0212069\n"
     ]
    },
    {
     "name": "stderr",
     "output_type": "stream",
     "text": [
      "min_data_in_leaf, val_score: 0.020820: 100%|#######################################| 5/5 [01:10<00:00, 14.04s/it]\u001b[32m[I 2023-03-31 07:28:59,171]\u001b[0m Trial 64 finished with value: 0.02081996436169564 and parameters: {'min_child_samples': 100}. Best is trial 63 with value: 0.02081996436169564.\u001b[0m\n",
      "min_data_in_leaf, val_score: 0.020820: 100%|#######################################| 5/5 [01:10<00:00, 14.03s/it]"
     ]
    },
    {
     "name": "stdout",
     "output_type": "stream",
     "text": [
      "Early stopping, best iteration is:\n",
      "[483]\tvalid_0's binary_logloss: 0.0091744\tvalid_1's binary_logloss: 0.02082\n"
     ]
    },
    {
     "name": "stderr",
     "output_type": "stream",
     "text": [
      "\n"
     ]
    }
   ],
   "source": [
    "params = {\n",
    "    \"objective\": \"binary\",\n",
    "    \"metric\": \"binary_logloss\",\n",
    "    \"verbosity\": -1,\n",
    "    \"boosting_type\": \"gbdt\",\n",
    "}\n",
    "\n",
    "model = lgb.train(\n",
    "    params,\n",
    "    dtrain,\n",
    "    valid_sets=[dtrain, dval],\n",
    "    callbacks=[early_stopping(100), log_evaluation(100)],\n",
    ")"
   ]
  },
  {
   "cell_type": "code",
   "execution_count": 71,
   "id": "4fc6ef19-2224-4fc8-a041-888b1211b0d9",
   "metadata": {
    "tags": []
   },
   "outputs": [
    {
     "data": {
      "text/plain": [
       "<Axes: title={'center': 'Feature importance'}, xlabel='Feature importance', ylabel='Features'>"
      ]
     },
     "execution_count": 71,
     "metadata": {},
     "output_type": "execute_result"
    },
    {
     "data": {
      "image/png": "[encoded data removed]",
      "text/plain": [
       "<Figure size 640x480 with 1 Axes>"
      ]
     },
     "metadata": {},
     "output_type": "display_data"
    }
   ],
   "source": [
    "lgb.plot_importance(model)"
   ]
  },
  {
   "cell_type": "code",
   "execution_count": null,
   "id": "48ab768f-12ad-4609-8182-1031d8db8c45",
   "metadata": {},
   "outputs": [],
   "source": []
  },
  {
   "cell_type": "code",
   "execution_count": null,
   "id": "a4cafbd5-938a-4b4e-9f9a-e609797a05bc",
   "metadata": {},
   "outputs": [],
   "source": [
    "models.params"
   ]
  },
  {
   "cell_type": "code",
   "execution_count": 70,
   "id": "42dbe9b1-2b0a-4662-8ef3-16e2016dbf9d",
   "metadata": {
    "tags": []
   },
   "outputs": [
    {
     "ename": "NameError",
     "evalue": "name 'val_x' is not defined",
     "output_type": "error",
     "traceback": [
      "\u001b[0;31m---------------------------------------------------------------------------\u001b[0m",
      "\u001b[0;31mNameError\u001b[0m                                 Traceback (most recent call last)",
      "Cell \u001b[0;32mIn[70], line 1\u001b[0m\n\u001b[0;32m----> 1\u001b[0m prediction \u001b[38;5;241m=\u001b[39m np\u001b[38;5;241m.\u001b[39mrint(model\u001b[38;5;241m.\u001b[39mpredict(\u001b[43mval_x\u001b[49m, num_iteration\u001b[38;5;241m=\u001b[39mmodel\u001b[38;5;241m.\u001b[39mbest_iteration))\n\u001b[1;32m      2\u001b[0m accuracy \u001b[38;5;241m=\u001b[39m accuracy_score(val_y, prediction)\n",
      "\u001b[0;31mNameError\u001b[0m: name 'val_x' is not defined"
     ]
    }
   ],
   "source": [
    "prediction = np.rint(model.predict(val_x, num_iteration=model.best_iteration))\n",
    "accuracy = accuracy_score(val_y, prediction)"
   ]
  },
  {
   "cell_type": "code",
   "execution_count": 56,
   "id": "4bf6d96b-9ecc-48d6-88d7-cd4a5af876e3",
   "metadata": {
    "tags": []
   },
   "outputs": [],
   "source": [
    "best_params, tuning_history = dict(), list()"
   ]
  },
  {
   "cell_type": "code",
   "execution_count": 58,
   "id": "b6a29bf8-3d3f-41d0-9c3e-c37107c14db6",
   "metadata": {
    "tags": []
   },
   "outputs": [
    {
     "ename": "NameError",
     "evalue": "name 'lgb_train' is not defined",
     "output_type": "error",
     "traceback": [
      "\u001b[0;31m---------------------------------------------------------------------------\u001b[0m",
      "\u001b[0;31mNameError\u001b[0m                                 Traceback (most recent call last)",
      "Cell \u001b[0;32mIn[58], line 1\u001b[0m\n\u001b[0;32m----> 1\u001b[0m model \u001b[38;5;241m=\u001b[39m lgb\u001b[38;5;241m.\u001b[39mtrain(params, \u001b[43mlgb_train\u001b[49m, \n\u001b[1;32m      2\u001b[0m                   num_boost_round\u001b[38;5;241m=\u001b[39mnum_round, \n\u001b[1;32m      3\u001b[0m                   valid_names\u001b[38;5;241m=\u001b[39m[\u001b[38;5;124m'\u001b[39m\u001b[38;5;124mtrain\u001b[39m\u001b[38;5;124m'\u001b[39m, \u001b[38;5;124m'\u001b[39m\u001b[38;5;124mvalid\u001b[39m\u001b[38;5;124m'\u001b[39m], \n\u001b[1;32m      4\u001b[0m                   valid_sets\u001b[38;5;241m=\u001b[39m[lgb_train, lgb_eval],\n\u001b[1;32m      5\u001b[0m                   early_stopping_rounds\u001b[38;5;241m=\u001b[39m\u001b[38;5;241m20\u001b[39m\n\u001b[1;32m      6\u001b[0m                  )\n",
      "\u001b[0;31mNameError\u001b[0m: name 'lgb_train' is not defined"
     ]
    }
   ],
   "source": [
    "model = lgb.train(params, lgb_train, \n",
    "                  num_boost_round=num_round, \n",
    "                  valid_names=['train', 'valid'], \n",
    "                  valid_sets=[lgb_train, lgb_eval],\n",
    "                  early_stopping_rounds=20\n",
    "                 )"
   ]
  },
  {
   "cell_type": "code",
   "execution_count": 57,
   "id": "5f5214f7-431f-40ae-8942-ff8dc795979a",
   "metadata": {
    "tags": []
   },
   "outputs": [
    {
     "ename": "TypeError",
     "evalue": "LightGBMTuner.__init__() got an unexpected keyword argument 'best_params'",
     "output_type": "error",
     "traceback": [
      "\u001b[0;31m---------------------------------------------------------------------------\u001b[0m",
      "\u001b[0;31mTypeError\u001b[0m                                 Traceback (most recent call last)",
      "Cell \u001b[0;32mIn[57], line 1\u001b[0m\n\u001b[0;32m----> 1\u001b[0m booster \u001b[38;5;241m=\u001b[39m \u001b[43mlgb\u001b[49m\u001b[38;5;241;43m.\u001b[39;49m\u001b[43mtrain\u001b[49m\u001b[43m(\u001b[49m\u001b[43mparams\u001b[49m\u001b[43m,\u001b[49m\u001b[43m \u001b[49m\u001b[43mdtrain\u001b[49m\u001b[43m,\u001b[49m\u001b[43m \u001b[49m\u001b[43mvalid_sets\u001b[49m\u001b[38;5;241;43m=\u001b[39;49m\u001b[43mdval\u001b[49m\u001b[43m,\u001b[49m\n\u001b[1;32m      2\u001b[0m \u001b[43m                    \u001b[49m\u001b[43mverbose_eval\u001b[49m\u001b[38;5;241;43m=\u001b[39;49m\u001b[38;5;241;43m0\u001b[39;49m\u001b[43m,\u001b[49m\n\u001b[1;32m      3\u001b[0m \u001b[43m                    \u001b[49m\u001b[43mbest_params\u001b[49m\u001b[38;5;241;43m=\u001b[39;49m\u001b[43mbest_params\u001b[49m\u001b[43m,\u001b[49m\n\u001b[1;32m      4\u001b[0m \u001b[43m                    \u001b[49m\u001b[43mtuning_history\u001b[49m\u001b[38;5;241;43m=\u001b[39;49m\u001b[43mtuning_history\u001b[49m\u001b[43m)\u001b[49m\n\u001b[1;32m      6\u001b[0m \u001b[38;5;28mprint\u001b[39m(\u001b[38;5;124m'\u001b[39m\u001b[38;5;124mBest Params:\u001b[39m\u001b[38;5;124m'\u001b[39m, best_params)\n\u001b[1;32m      7\u001b[0m \u001b[38;5;28mprint\u001b[39m(\u001b[38;5;124m'\u001b[39m\u001b[38;5;124mTuning history:\u001b[39m\u001b[38;5;124m'\u001b[39m, tuning_history)\n",
      "File \u001b[0;32m~/.pyenv/versions/3.10.9/envs/signate/lib/python3.10/site-packages/optuna/integration/_lightgbm_tuner/__init__.py:36\u001b[0m, in \u001b[0;36mtrain\u001b[0;34m(*args, **kwargs)\u001b[0m\n\u001b[1;32m     17\u001b[0m \u001b[38;5;250m\u001b[39m\u001b[38;5;124;03m\"\"\"Wrapper of LightGBM Training API to tune hyperparameters.\u001b[39;00m\n\u001b[1;32m     18\u001b[0m \n\u001b[1;32m     19\u001b[0m \u001b[38;5;124;03mIt tunes important hyperparameters (e.g., ``min_child_samples`` and ``feature_fraction``) in a\u001b[39;00m\n\u001b[0;32m   (...)\u001b[0m\n\u001b[1;32m     32\u001b[0m \u001b[38;5;124;03m.. _lightgbm.train(): https://lightgbm.readthedocs.io/en/latest/pythonapi/lightgbm.train.html\u001b[39;00m\n\u001b[1;32m     33\u001b[0m \u001b[38;5;124;03m\"\"\"\u001b[39;00m\n\u001b[1;32m     34\u001b[0m _imports\u001b[38;5;241m.\u001b[39mcheck()\n\u001b[0;32m---> 36\u001b[0m auto_booster \u001b[38;5;241m=\u001b[39m \u001b[43mLightGBMTuner\u001b[49m\u001b[43m(\u001b[49m\u001b[38;5;241;43m*\u001b[39;49m\u001b[43margs\u001b[49m\u001b[43m,\u001b[49m\u001b[43m \u001b[49m\u001b[38;5;241;43m*\u001b[39;49m\u001b[38;5;241;43m*\u001b[39;49m\u001b[43mkwargs\u001b[49m\u001b[43m)\u001b[49m\n\u001b[1;32m     37\u001b[0m auto_booster\u001b[38;5;241m.\u001b[39mrun()\n\u001b[1;32m     38\u001b[0m \u001b[38;5;28;01mreturn\u001b[39;00m auto_booster\u001b[38;5;241m.\u001b[39mget_best_booster()\n",
      "\u001b[0;31mTypeError\u001b[0m: LightGBMTuner.__init__() got an unexpected keyword argument 'best_params'"
     ]
    }
   ],
   "source": [
    "booster = lgb.train(params, dtrain, valid_sets=dval,\n",
    "                    verbose_eval=0,\n",
    "                    best_params=best_params,\n",
    "                    tuning_history=tuning_history)\n",
    "\n",
    "print('Best Params:', best_params)\n",
    "print('Tuning history:', tuning_history)"
   ]
  },
  {
   "cell_type": "code",
   "execution_count": null,
   "id": "bad41de5-a03c-466d-ad17-55a24ec6dd2b",
   "metadata": {},
   "outputs": [],
   "source": []
  }
 ],
 "metadata": {
  "kernelspec": {
   "display_name": "Python 3 (ipykernel)",
   "language": "python",
   "name": "python3"
  },
  "language_info": {
   "codemirror_mode": {
    "name": "ipython",
    "version": 3
   },
   "file_extension": ".py",
   "mimetype": "text/x-python",
   "name": "python",
   "nbconvert_exporter": "python",
   "pygments_lexer": "ipython3",
   "version": "3.10.10"
  }
 },
 "nbformat": 4,
 "nbformat_minor": 5
}
